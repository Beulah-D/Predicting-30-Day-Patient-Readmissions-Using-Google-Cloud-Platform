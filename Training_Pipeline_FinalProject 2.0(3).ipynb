{
  "cells": [
    {
      "cell_type": "code",
      "id": "PCC89JKXEj4eG6XgXJvPYvP2",
      "metadata": {
        "tags": [],
        "id": "PCC89JKXEj4eG6XgXJvPYvP2",
        "colab": {
          "base_uri": "https://localhost:8080/"
        },
        "executionInfo": {
          "status": "ok",
          "timestamp": 1734379913329,
          "user_tz": 480,
          "elapsed": 4970,
          "user": {
            "displayName": "",
            "userId": ""
          }
        },
        "outputId": "6cef387f-a747-45bc-bf7c-5e6b2c2ea248",
        "collapsed": true
      },
      "source": [
        "! pip install kfp"
      ],
      "execution_count": 76,
      "outputs": [
        {
          "output_type": "stream",
          "name": "stdout",
          "text": [
            "Requirement already satisfied: kfp in /usr/local/lib/python3.10/dist-packages (2.10.1)\n",
            "Requirement already satisfied: click<9,>=8.0.0 in /usr/local/lib/python3.10/dist-packages (from kfp) (8.1.7)\n",
            "Requirement already satisfied: docstring-parser<1,>=0.7.3 in /usr/local/lib/python3.10/dist-packages (from kfp) (0.16)\n",
            "Requirement already satisfied: google-api-core!=2.0.*,!=2.1.*,!=2.2.*,!=2.3.0,<3.0.0dev,>=1.31.5 in /usr/local/lib/python3.10/dist-packages (from kfp) (2.19.2)\n",
            "Requirement already satisfied: google-auth<3,>=1.6.1 in /usr/local/lib/python3.10/dist-packages (from kfp) (2.27.0)\n",
            "Requirement already satisfied: google-cloud-storage<3,>=2.2.1 in /usr/local/lib/python3.10/dist-packages (from kfp) (2.8.0)\n",
            "Requirement already satisfied: kfp-pipeline-spec==0.5.0 in /usr/local/lib/python3.10/dist-packages (from kfp) (0.5.0)\n",
            "Requirement already satisfied: kfp-server-api<2.4.0,>=2.1.0 in /usr/local/lib/python3.10/dist-packages (from kfp) (2.3.0)\n",
            "Requirement already satisfied: kubernetes<31,>=8.0.0 in /usr/local/lib/python3.10/dist-packages (from kfp) (30.1.0)\n",
            "Requirement already satisfied: protobuf<5,>=4.21.1 in /usr/local/lib/python3.10/dist-packages (from kfp) (4.25.5)\n",
            "Requirement already satisfied: PyYAML<7,>=5.3 in /usr/local/lib/python3.10/dist-packages (from kfp) (6.0.2)\n",
            "Requirement already satisfied: requests-toolbelt<1,>=0.8.0 in /usr/local/lib/python3.10/dist-packages (from kfp) (0.10.1)\n",
            "Requirement already satisfied: tabulate<1,>=0.8.6 in /usr/local/lib/python3.10/dist-packages (from kfp) (0.9.0)\n",
            "Requirement already satisfied: urllib3<2.0.0 in /usr/local/lib/python3.10/dist-packages (from kfp) (1.26.20)\n",
            "Requirement already satisfied: googleapis-common-protos<2.0.dev0,>=1.56.2 in /usr/local/lib/python3.10/dist-packages (from google-api-core!=2.0.*,!=2.1.*,!=2.2.*,!=2.3.0,<3.0.0dev,>=1.31.5->kfp) (1.66.0)\n",
            "Requirement already satisfied: proto-plus<2.0.0dev,>=1.22.3 in /usr/local/lib/python3.10/dist-packages (from google-api-core!=2.0.*,!=2.1.*,!=2.2.*,!=2.3.0,<3.0.0dev,>=1.31.5->kfp) (1.25.0)\n",
            "Requirement already satisfied: requests<3.0.0.dev0,>=2.18.0 in /usr/local/lib/python3.10/dist-packages (from google-api-core!=2.0.*,!=2.1.*,!=2.2.*,!=2.3.0,<3.0.0dev,>=1.31.5->kfp) (2.32.3)\n",
            "Requirement already satisfied: cachetools<6.0,>=2.0.0 in /usr/local/lib/python3.10/dist-packages (from google-auth<3,>=1.6.1->kfp) (5.5.0)\n",
            "Requirement already satisfied: pyasn1-modules>=0.2.1 in /usr/local/lib/python3.10/dist-packages (from google-auth<3,>=1.6.1->kfp) (0.4.1)\n",
            "Requirement already satisfied: rsa<5,>=3.1.4 in /usr/local/lib/python3.10/dist-packages (from google-auth<3,>=1.6.1->kfp) (4.9)\n",
            "Requirement already satisfied: google-cloud-core<3.0dev,>=2.3.0 in /usr/local/lib/python3.10/dist-packages (from google-cloud-storage<3,>=2.2.1->kfp) (2.4.1)\n",
            "Requirement already satisfied: google-resumable-media>=2.3.2 in /usr/local/lib/python3.10/dist-packages (from google-cloud-storage<3,>=2.2.1->kfp) (2.7.2)\n",
            "Requirement already satisfied: six>=1.10 in /usr/local/lib/python3.10/dist-packages (from kfp-server-api<2.4.0,>=2.1.0->kfp) (1.16.0)\n",
            "Requirement already satisfied: certifi in /usr/local/lib/python3.10/dist-packages (from kfp-server-api<2.4.0,>=2.1.0->kfp) (2024.8.30)\n",
            "Requirement already satisfied: python-dateutil in /usr/local/lib/python3.10/dist-packages (from kfp-server-api<2.4.0,>=2.1.0->kfp) (2.8.2)\n",
            "Requirement already satisfied: websocket-client!=0.40.0,!=0.41.*,!=0.42.*,>=0.32.0 in /usr/local/lib/python3.10/dist-packages (from kubernetes<31,>=8.0.0->kfp) (1.8.0)\n",
            "Requirement already satisfied: requests-oauthlib in /usr/local/lib/python3.10/dist-packages (from kubernetes<31,>=8.0.0->kfp) (1.3.1)\n",
            "Requirement already satisfied: oauthlib>=3.2.2 in /usr/local/lib/python3.10/dist-packages (from kubernetes<31,>=8.0.0->kfp) (3.2.2)\n",
            "Requirement already satisfied: google-crc32c<2.0dev,>=1.0 in /usr/local/lib/python3.10/dist-packages (from google-resumable-media>=2.3.2->google-cloud-storage<3,>=2.2.1->kfp) (1.6.0)\n",
            "Requirement already satisfied: pyasn1<0.7.0,>=0.4.6 in /usr/local/lib/python3.10/dist-packages (from pyasn1-modules>=0.2.1->google-auth<3,>=1.6.1->kfp) (0.6.1)\n",
            "Requirement already satisfied: charset-normalizer<4,>=2 in /usr/local/lib/python3.10/dist-packages (from requests<3.0.0.dev0,>=2.18.0->google-api-core!=2.0.*,!=2.1.*,!=2.2.*,!=2.3.0,<3.0.0dev,>=1.31.5->kfp) (3.4.0)\n",
            "Requirement already satisfied: idna<4,>=2.5 in /usr/local/lib/python3.10/dist-packages (from requests<3.0.0.dev0,>=2.18.0->google-api-core!=2.0.*,!=2.1.*,!=2.2.*,!=2.3.0,<3.0.0dev,>=1.31.5->kfp) (3.10)\n"
          ]
        }
      ]
    },
    {
      "cell_type": "code",
      "source": [
        "!pip install google-cloud-pipeline-components"
      ],
      "metadata": {
        "colab": {
          "base_uri": "https://localhost:8080/"
        },
        "id": "Ve5e_uAUib9J",
        "executionInfo": {
          "status": "ok",
          "timestamp": 1734379920377,
          "user_tz": 480,
          "elapsed": 7049,
          "user": {
            "displayName": "",
            "userId": ""
          }
        },
        "outputId": "29d53c7b-a31f-483e-cc6a-e49a9674ac5c",
        "collapsed": true
      },
      "id": "Ve5e_uAUib9J",
      "execution_count": 77,
      "outputs": [
        {
          "output_type": "stream",
          "name": "stdout",
          "text": [
            "Requirement already satisfied: google-cloud-pipeline-components in /usr/local/lib/python3.10/dist-packages (2.18.0)\n",
            "Requirement already satisfied: google-api-core!=2.0.*,!=2.1.*,!=2.2.*,!=2.3.0,<3.0.0dev,>=1.31.5 in /usr/local/lib/python3.10/dist-packages (from google-cloud-pipeline-components) (2.19.2)\n",
            "Requirement already satisfied: kfp<2.11.0,>=2.6.0 in /usr/local/lib/python3.10/dist-packages (from google-cloud-pipeline-components) (2.10.1)\n",
            "Requirement already satisfied: google-cloud-aiplatform<2,>=1.14.0 in /usr/local/lib/python3.10/dist-packages (from google-cloud-pipeline-components) (1.71.1)\n",
            "Requirement already satisfied: Jinja2<4,>=3.1.2 in /usr/local/lib/python3.10/dist-packages (from google-cloud-pipeline-components) (3.1.4)\n",
            "Requirement already satisfied: googleapis-common-protos<2.0.dev0,>=1.56.2 in /usr/local/lib/python3.10/dist-packages (from google-api-core!=2.0.*,!=2.1.*,!=2.2.*,!=2.3.0,<3.0.0dev,>=1.31.5->google-cloud-pipeline-components) (1.66.0)\n",
            "Requirement already satisfied: protobuf!=3.20.0,!=3.20.1,!=4.21.0,!=4.21.1,!=4.21.2,!=4.21.3,!=4.21.4,!=4.21.5,<6.0.0.dev0,>=3.19.5 in /usr/local/lib/python3.10/dist-packages (from google-api-core!=2.0.*,!=2.1.*,!=2.2.*,!=2.3.0,<3.0.0dev,>=1.31.5->google-cloud-pipeline-components) (4.25.5)\n",
            "Requirement already satisfied: proto-plus<2.0.0dev,>=1.22.3 in /usr/local/lib/python3.10/dist-packages (from google-api-core!=2.0.*,!=2.1.*,!=2.2.*,!=2.3.0,<3.0.0dev,>=1.31.5->google-cloud-pipeline-components) (1.25.0)\n",
            "Requirement already satisfied: google-auth<3.0.dev0,>=2.14.1 in /usr/local/lib/python3.10/dist-packages (from google-api-core!=2.0.*,!=2.1.*,!=2.2.*,!=2.3.0,<3.0.0dev,>=1.31.5->google-cloud-pipeline-components) (2.27.0)\n",
            "Requirement already satisfied: requests<3.0.0.dev0,>=2.18.0 in /usr/local/lib/python3.10/dist-packages (from google-api-core!=2.0.*,!=2.1.*,!=2.2.*,!=2.3.0,<3.0.0dev,>=1.31.5->google-cloud-pipeline-components) (2.32.3)\n",
            "Requirement already satisfied: packaging>=14.3 in /usr/local/lib/python3.10/dist-packages (from google-cloud-aiplatform<2,>=1.14.0->google-cloud-pipeline-components) (24.2)\n",
            "Requirement already satisfied: google-cloud-storage<3.0.0dev,>=1.32.0 in /usr/local/lib/python3.10/dist-packages (from google-cloud-aiplatform<2,>=1.14.0->google-cloud-pipeline-components) (2.8.0)\n",
            "Requirement already satisfied: google-cloud-bigquery!=3.20.0,<4.0.0dev,>=1.15.0 in /usr/local/lib/python3.10/dist-packages (from google-cloud-aiplatform<2,>=1.14.0->google-cloud-pipeline-components) (3.25.0)\n",
            "Requirement already satisfied: google-cloud-resource-manager<3.0.0dev,>=1.3.3 in /usr/local/lib/python3.10/dist-packages (from google-cloud-aiplatform<2,>=1.14.0->google-cloud-pipeline-components) (1.13.1)\n",
            "Requirement already satisfied: shapely<3.0.0dev in /usr/local/lib/python3.10/dist-packages (from google-cloud-aiplatform<2,>=1.14.0->google-cloud-pipeline-components) (2.0.6)\n",
            "Requirement already satisfied: pydantic<3 in /usr/local/lib/python3.10/dist-packages (from google-cloud-aiplatform<2,>=1.14.0->google-cloud-pipeline-components) (2.10.2)\n",
            "Requirement already satisfied: docstring-parser<1 in /usr/local/lib/python3.10/dist-packages (from google-cloud-aiplatform<2,>=1.14.0->google-cloud-pipeline-components) (0.16)\n",
            "Requirement already satisfied: MarkupSafe>=2.0 in /usr/local/lib/python3.10/dist-packages (from Jinja2<4,>=3.1.2->google-cloud-pipeline-components) (3.0.2)\n",
            "Requirement already satisfied: click<9,>=8.0.0 in /usr/local/lib/python3.10/dist-packages (from kfp<2.11.0,>=2.6.0->google-cloud-pipeline-components) (8.1.7)\n",
            "Requirement already satisfied: kfp-pipeline-spec==0.5.0 in /usr/local/lib/python3.10/dist-packages (from kfp<2.11.0,>=2.6.0->google-cloud-pipeline-components) (0.5.0)\n",
            "Requirement already satisfied: kfp-server-api<2.4.0,>=2.1.0 in /usr/local/lib/python3.10/dist-packages (from kfp<2.11.0,>=2.6.0->google-cloud-pipeline-components) (2.3.0)\n",
            "Requirement already satisfied: kubernetes<31,>=8.0.0 in /usr/local/lib/python3.10/dist-packages (from kfp<2.11.0,>=2.6.0->google-cloud-pipeline-components) (30.1.0)\n",
            "Requirement already satisfied: PyYAML<7,>=5.3 in /usr/local/lib/python3.10/dist-packages (from kfp<2.11.0,>=2.6.0->google-cloud-pipeline-components) (6.0.2)\n",
            "Requirement already satisfied: requests-toolbelt<1,>=0.8.0 in /usr/local/lib/python3.10/dist-packages (from kfp<2.11.0,>=2.6.0->google-cloud-pipeline-components) (0.10.1)\n",
            "Requirement already satisfied: tabulate<1,>=0.8.6 in /usr/local/lib/python3.10/dist-packages (from kfp<2.11.0,>=2.6.0->google-cloud-pipeline-components) (0.9.0)\n",
            "Requirement already satisfied: urllib3<2.0.0 in /usr/local/lib/python3.10/dist-packages (from kfp<2.11.0,>=2.6.0->google-cloud-pipeline-components) (1.26.20)\n",
            "Requirement already satisfied: grpcio<2.0dev,>=1.33.2 in /usr/local/lib/python3.10/dist-packages (from google-api-core[grpc]!=2.0.*,!=2.1.*,!=2.2.*,!=2.3.*,!=2.4.*,!=2.5.*,!=2.6.*,!=2.7.*,<3.0.0dev,>=1.34.1->google-cloud-aiplatform<2,>=1.14.0->google-cloud-pipeline-components) (1.68.1)\n",
            "Requirement already satisfied: grpcio-status<2.0.dev0,>=1.33.2 in /usr/local/lib/python3.10/dist-packages (from google-api-core[grpc]!=2.0.*,!=2.1.*,!=2.2.*,!=2.3.*,!=2.4.*,!=2.5.*,!=2.6.*,!=2.7.*,<3.0.0dev,>=1.34.1->google-cloud-aiplatform<2,>=1.14.0->google-cloud-pipeline-components) (1.62.3)\n",
            "Requirement already satisfied: cachetools<6.0,>=2.0.0 in /usr/local/lib/python3.10/dist-packages (from google-auth<3.0.dev0,>=2.14.1->google-api-core!=2.0.*,!=2.1.*,!=2.2.*,!=2.3.0,<3.0.0dev,>=1.31.5->google-cloud-pipeline-components) (5.5.0)\n",
            "Requirement already satisfied: pyasn1-modules>=0.2.1 in /usr/local/lib/python3.10/dist-packages (from google-auth<3.0.dev0,>=2.14.1->google-api-core!=2.0.*,!=2.1.*,!=2.2.*,!=2.3.0,<3.0.0dev,>=1.31.5->google-cloud-pipeline-components) (0.4.1)\n",
            "Requirement already satisfied: rsa<5,>=3.1.4 in /usr/local/lib/python3.10/dist-packages (from google-auth<3.0.dev0,>=2.14.1->google-api-core!=2.0.*,!=2.1.*,!=2.2.*,!=2.3.0,<3.0.0dev,>=1.31.5->google-cloud-pipeline-components) (4.9)\n",
            "Requirement already satisfied: google-cloud-core<3.0.0dev,>=1.6.0 in /usr/local/lib/python3.10/dist-packages (from google-cloud-bigquery!=3.20.0,<4.0.0dev,>=1.15.0->google-cloud-aiplatform<2,>=1.14.0->google-cloud-pipeline-components) (2.4.1)\n",
            "Requirement already satisfied: google-resumable-media<3.0dev,>=0.6.0 in /usr/local/lib/python3.10/dist-packages (from google-cloud-bigquery!=3.20.0,<4.0.0dev,>=1.15.0->google-cloud-aiplatform<2,>=1.14.0->google-cloud-pipeline-components) (2.7.2)\n",
            "Requirement already satisfied: python-dateutil<3.0dev,>=2.7.2 in /usr/local/lib/python3.10/dist-packages (from google-cloud-bigquery!=3.20.0,<4.0.0dev,>=1.15.0->google-cloud-aiplatform<2,>=1.14.0->google-cloud-pipeline-components) (2.8.2)\n",
            "Requirement already satisfied: grpc-google-iam-v1<1.0.0dev,>=0.12.4 in /usr/local/lib/python3.10/dist-packages (from google-cloud-resource-manager<3.0.0dev,>=1.3.3->google-cloud-aiplatform<2,>=1.14.0->google-cloud-pipeline-components) (0.13.1)\n",
            "Requirement already satisfied: six>=1.10 in /usr/local/lib/python3.10/dist-packages (from kfp-server-api<2.4.0,>=2.1.0->kfp<2.11.0,>=2.6.0->google-cloud-pipeline-components) (1.16.0)\n",
            "Requirement already satisfied: certifi in /usr/local/lib/python3.10/dist-packages (from kfp-server-api<2.4.0,>=2.1.0->kfp<2.11.0,>=2.6.0->google-cloud-pipeline-components) (2024.8.30)\n",
            "Requirement already satisfied: websocket-client!=0.40.0,!=0.41.*,!=0.42.*,>=0.32.0 in /usr/local/lib/python3.10/dist-packages (from kubernetes<31,>=8.0.0->kfp<2.11.0,>=2.6.0->google-cloud-pipeline-components) (1.8.0)\n",
            "Requirement already satisfied: requests-oauthlib in /usr/local/lib/python3.10/dist-packages (from kubernetes<31,>=8.0.0->kfp<2.11.0,>=2.6.0->google-cloud-pipeline-components) (1.3.1)\n",
            "Requirement already satisfied: oauthlib>=3.2.2 in /usr/local/lib/python3.10/dist-packages (from kubernetes<31,>=8.0.0->kfp<2.11.0,>=2.6.0->google-cloud-pipeline-components) (3.2.2)\n",
            "Requirement already satisfied: annotated-types>=0.6.0 in /usr/local/lib/python3.10/dist-packages (from pydantic<3->google-cloud-aiplatform<2,>=1.14.0->google-cloud-pipeline-components) (0.7.0)\n",
            "Requirement already satisfied: pydantic-core==2.27.1 in /usr/local/lib/python3.10/dist-packages (from pydantic<3->google-cloud-aiplatform<2,>=1.14.0->google-cloud-pipeline-components) (2.27.1)\n",
            "Requirement already satisfied: typing-extensions>=4.12.2 in /usr/local/lib/python3.10/dist-packages (from pydantic<3->google-cloud-aiplatform<2,>=1.14.0->google-cloud-pipeline-components) (4.12.2)\n",
            "Requirement already satisfied: charset-normalizer<4,>=2 in /usr/local/lib/python3.10/dist-packages (from requests<3.0.0.dev0,>=2.18.0->google-api-core!=2.0.*,!=2.1.*,!=2.2.*,!=2.3.0,<3.0.0dev,>=1.31.5->google-cloud-pipeline-components) (3.4.0)\n",
            "Requirement already satisfied: idna<4,>=2.5 in /usr/local/lib/python3.10/dist-packages (from requests<3.0.0.dev0,>=2.18.0->google-api-core!=2.0.*,!=2.1.*,!=2.2.*,!=2.3.0,<3.0.0dev,>=1.31.5->google-cloud-pipeline-components) (3.10)\n",
            "Requirement already satisfied: numpy<3,>=1.14 in /usr/local/lib/python3.10/dist-packages (from shapely<3.0.0dev->google-cloud-aiplatform<2,>=1.14.0->google-cloud-pipeline-components) (1.26.4)\n",
            "Requirement already satisfied: google-crc32c<2.0dev,>=1.0 in /usr/local/lib/python3.10/dist-packages (from google-resumable-media<3.0dev,>=0.6.0->google-cloud-bigquery!=3.20.0,<4.0.0dev,>=1.15.0->google-cloud-aiplatform<2,>=1.14.0->google-cloud-pipeline-components) (1.6.0)\n",
            "Requirement already satisfied: pyasn1<0.7.0,>=0.4.6 in /usr/local/lib/python3.10/dist-packages (from pyasn1-modules>=0.2.1->google-auth<3.0.dev0,>=2.14.1->google-api-core!=2.0.*,!=2.1.*,!=2.2.*,!=2.3.0,<3.0.0dev,>=1.31.5->google-cloud-pipeline-components) (0.6.1)\n"
          ]
        }
      ]
    },
    {
      "cell_type": "code",
      "source": [
        "!pip install gcsfs"
      ],
      "metadata": {
        "colab": {
          "base_uri": "https://localhost:8080/"
        },
        "id": "ZET_sIdBieFI",
        "executionInfo": {
          "status": "ok",
          "timestamp": 1734332650624,
          "user_tz": 480,
          "elapsed": 4912,
          "user": {
            "displayName": "",
            "userId": ""
          }
        },
        "outputId": "3ac55cff-eb3a-4859-c7d6-a97a63398a36",
        "collapsed": true
      },
      "id": "ZET_sIdBieFI",
      "execution_count": null,
      "outputs": [
        {
          "output_type": "stream",
          "name": "stdout",
          "text": [
            "Requirement already satisfied: gcsfs in /usr/local/lib/python3.10/dist-packages (2024.10.0)\n",
            "Requirement already satisfied: aiohttp!=4.0.0a0,!=4.0.0a1 in /usr/local/lib/python3.10/dist-packages (from gcsfs) (3.11.9)\n",
            "Requirement already satisfied: decorator>4.1.2 in /usr/local/lib/python3.10/dist-packages (from gcsfs) (4.4.2)\n",
            "Requirement already satisfied: fsspec==2024.10.0 in /usr/local/lib/python3.10/dist-packages (from gcsfs) (2024.10.0)\n",
            "Requirement already satisfied: google-auth>=1.2 in /usr/local/lib/python3.10/dist-packages (from gcsfs) (2.27.0)\n",
            "Requirement already satisfied: google-auth-oauthlib in /usr/local/lib/python3.10/dist-packages (from gcsfs) (1.2.1)\n",
            "Requirement already satisfied: google-cloud-storage in /usr/local/lib/python3.10/dist-packages (from gcsfs) (2.8.0)\n",
            "Requirement already satisfied: requests in /usr/local/lib/python3.10/dist-packages (from gcsfs) (2.32.3)\n",
            "Requirement already satisfied: aiohappyeyeballs>=2.3.0 in /usr/local/lib/python3.10/dist-packages (from aiohttp!=4.0.0a0,!=4.0.0a1->gcsfs) (2.4.4)\n",
            "Requirement already satisfied: aiosignal>=1.1.2 in /usr/local/lib/python3.10/dist-packages (from aiohttp!=4.0.0a0,!=4.0.0a1->gcsfs) (1.3.1)\n",
            "Requirement already satisfied: async-timeout<6.0,>=4.0 in /usr/local/lib/python3.10/dist-packages (from aiohttp!=4.0.0a0,!=4.0.0a1->gcsfs) (4.0.3)\n",
            "Requirement already satisfied: attrs>=17.3.0 in /usr/local/lib/python3.10/dist-packages (from aiohttp!=4.0.0a0,!=4.0.0a1->gcsfs) (24.2.0)\n",
            "Requirement already satisfied: frozenlist>=1.1.1 in /usr/local/lib/python3.10/dist-packages (from aiohttp!=4.0.0a0,!=4.0.0a1->gcsfs) (1.5.0)\n",
            "Requirement already satisfied: multidict<7.0,>=4.5 in /usr/local/lib/python3.10/dist-packages (from aiohttp!=4.0.0a0,!=4.0.0a1->gcsfs) (6.1.0)\n",
            "Requirement already satisfied: propcache>=0.2.0 in /usr/local/lib/python3.10/dist-packages (from aiohttp!=4.0.0a0,!=4.0.0a1->gcsfs) (0.2.1)\n",
            "Requirement already satisfied: yarl<2.0,>=1.17.0 in /usr/local/lib/python3.10/dist-packages (from aiohttp!=4.0.0a0,!=4.0.0a1->gcsfs) (1.18.3)\n",
            "Requirement already satisfied: cachetools<6.0,>=2.0.0 in /usr/local/lib/python3.10/dist-packages (from google-auth>=1.2->gcsfs) (5.5.0)\n",
            "Requirement already satisfied: pyasn1-modules>=0.2.1 in /usr/local/lib/python3.10/dist-packages (from google-auth>=1.2->gcsfs) (0.4.1)\n",
            "Requirement already satisfied: rsa<5,>=3.1.4 in /usr/local/lib/python3.10/dist-packages (from google-auth>=1.2->gcsfs) (4.9)\n",
            "Requirement already satisfied: requests-oauthlib>=0.7.0 in /usr/local/lib/python3.10/dist-packages (from google-auth-oauthlib->gcsfs) (1.3.1)\n",
            "Requirement already satisfied: google-api-core!=2.0.*,!=2.1.*,!=2.2.*,!=2.3.0,<3.0.0dev,>=1.31.5 in /usr/local/lib/python3.10/dist-packages (from google-cloud-storage->gcsfs) (2.19.2)\n",
            "Requirement already satisfied: google-cloud-core<3.0dev,>=2.3.0 in /usr/local/lib/python3.10/dist-packages (from google-cloud-storage->gcsfs) (2.4.1)\n",
            "Requirement already satisfied: google-resumable-media>=2.3.2 in /usr/local/lib/python3.10/dist-packages (from google-cloud-storage->gcsfs) (2.7.2)\n",
            "Requirement already satisfied: charset-normalizer<4,>=2 in /usr/local/lib/python3.10/dist-packages (from requests->gcsfs) (3.4.0)\n",
            "Requirement already satisfied: idna<4,>=2.5 in /usr/local/lib/python3.10/dist-packages (from requests->gcsfs) (3.10)\n",
            "Requirement already satisfied: urllib3<3,>=1.21.1 in /usr/local/lib/python3.10/dist-packages (from requests->gcsfs) (1.26.20)\n",
            "Requirement already satisfied: certifi>=2017.4.17 in /usr/local/lib/python3.10/dist-packages (from requests->gcsfs) (2024.8.30)\n",
            "Requirement already satisfied: googleapis-common-protos<2.0.dev0,>=1.56.2 in /usr/local/lib/python3.10/dist-packages (from google-api-core!=2.0.*,!=2.1.*,!=2.2.*,!=2.3.0,<3.0.0dev,>=1.31.5->google-cloud-storage->gcsfs) (1.66.0)\n",
            "Requirement already satisfied: protobuf!=3.20.0,!=3.20.1,!=4.21.0,!=4.21.1,!=4.21.2,!=4.21.3,!=4.21.4,!=4.21.5,<6.0.0.dev0,>=3.19.5 in /usr/local/lib/python3.10/dist-packages (from google-api-core!=2.0.*,!=2.1.*,!=2.2.*,!=2.3.0,<3.0.0dev,>=1.31.5->google-cloud-storage->gcsfs) (4.25.5)\n",
            "Requirement already satisfied: proto-plus<2.0.0dev,>=1.22.3 in /usr/local/lib/python3.10/dist-packages (from google-api-core!=2.0.*,!=2.1.*,!=2.2.*,!=2.3.0,<3.0.0dev,>=1.31.5->google-cloud-storage->gcsfs) (1.25.0)\n",
            "Requirement already satisfied: google-crc32c<2.0dev,>=1.0 in /usr/local/lib/python3.10/dist-packages (from google-resumable-media>=2.3.2->google-cloud-storage->gcsfs) (1.6.0)\n",
            "Requirement already satisfied: typing-extensions>=4.1.0 in /usr/local/lib/python3.10/dist-packages (from multidict<7.0,>=4.5->aiohttp!=4.0.0a0,!=4.0.0a1->gcsfs) (4.12.2)\n",
            "Requirement already satisfied: pyasn1<0.7.0,>=0.4.6 in /usr/local/lib/python3.10/dist-packages (from pyasn1-modules>=0.2.1->google-auth>=1.2->gcsfs) (0.6.1)\n",
            "Requirement already satisfied: oauthlib>=3.0.0 in /usr/local/lib/python3.10/dist-packages (from requests-oauthlib>=0.7.0->google-auth-oauthlib->gcsfs) (3.2.2)\n"
          ]
        }
      ]
    },
    {
      "cell_type": "code",
      "source": [
        "!pip install scikit-learn"
      ],
      "metadata": {
        "colab": {
          "base_uri": "https://localhost:8080/"
        },
        "id": "7AtwG2_LignT",
        "executionInfo": {
          "status": "ok",
          "timestamp": 1734379925640,
          "user_tz": 480,
          "elapsed": 5265,
          "user": {
            "displayName": "",
            "userId": ""
          }
        },
        "outputId": "256a51fe-d572-48af-f673-6b2e7ceac6d6"
      },
      "id": "7AtwG2_LignT",
      "execution_count": 78,
      "outputs": [
        {
          "output_type": "stream",
          "name": "stdout",
          "text": [
            "Requirement already satisfied: scikit-learn in /usr/local/lib/python3.10/dist-packages (1.5.2)\n",
            "Requirement already satisfied: numpy>=1.19.5 in /usr/local/lib/python3.10/dist-packages (from scikit-learn) (1.26.4)\n",
            "Requirement already satisfied: scipy>=1.6.0 in /usr/local/lib/python3.10/dist-packages (from scikit-learn) (1.13.1)\n",
            "Requirement already satisfied: joblib>=1.2.0 in /usr/local/lib/python3.10/dist-packages (from scikit-learn) (1.4.2)\n",
            "Requirement already satisfied: threadpoolctl>=3.1.0 in /usr/local/lib/python3.10/dist-packages (from scikit-learn) (3.5.0)\n"
          ]
        }
      ]
    },
    {
      "cell_type": "code",
      "source": [
        "\n",
        "# Set project and location\n",
        "project_id = 'gcp-final-project-444704'\n",
        "location = 'us-central1'\n",
        "\n",
        "from google.cloud import aiplatform\n",
        "aiplatform.init(project=project_id, location=location)"
      ],
      "metadata": {
        "id": "BrfXSoO9ihPg",
        "executionInfo": {
          "status": "ok",
          "timestamp": 1734379925640,
          "user_tz": 480,
          "elapsed": 5,
          "user": {
            "displayName": "",
            "userId": ""
          }
        }
      },
      "id": "BrfXSoO9ihPg",
      "execution_count": 79,
      "outputs": []
    },
    {
      "cell_type": "code",
      "source": [
        "from kfp.v2.dsl import pipeline, component, InputPath, OutputPath, Dataset, Metrics\n",
        "from google.cloud import aiplatform"
      ],
      "metadata": {
        "id": "0GvT_ZUtijlk",
        "executionInfo": {
          "status": "ok",
          "timestamp": 1734379925640,
          "user_tz": 480,
          "elapsed": 4,
          "user": {
            "displayName": "",
            "userId": ""
          }
        }
      },
      "id": "0GvT_ZUtijlk",
      "execution_count": 80,
      "outputs": []
    },
    {
      "cell_type": "code",
      "source": [
        "@component(packages_to_install=[\"pandas\", \"numpy\",\"fsspec\",\"gcsfs\"])\n",
        "def initial_data_preparation(\n",
        "    input_dataset_path: str,  # Input: Raw dataset path\n",
        "    prepared_dataset_path: OutputPath()  # Output: Cleaned and prepared dataset path\n",
        "):\n",
        "    import pandas as pd\n",
        "    import numpy as np\n",
        "\n",
        "    # Load dataset\n",
        "    df = pd.read_csv(input_dataset_path)\n",
        "\n",
        "    # Handle missing values\n",
        "    df['Exercise Frequency'].fillna('None', inplace=True)\n",
        "    df['Type of Treatment'].fillna('None', inplace=True)\n",
        "    df['Number of Prior Visits'].fillna(df['Number of Prior Visits'].median(), inplace=True)\n",
        "    df['Medications Prescribed'].fillna(df['Medications Prescribed'].mean(), inplace=True)\n",
        "\n",
        "    # Handle outliers\n",
        "    df['Age'] = df['Age'].clip(upper=df['Age'].quantile(0.99))\n",
        "    df['Adjusted Weight (kg)'] = df['Adjusted Weight (kg)'].clip(upper=df['Adjusted Weight (kg)'].quantile(0.95))\n",
        "    df['Length of Stay'] = np.log1p(df['Length of Stay'])\n",
        "    df['Number of Prior Visits'] = df['Number of Prior Visits'].clip(upper=df['Number of Prior Visits'].quantile(0.95))\n",
        "\n",
        "    # Drop unnecessary columns\n",
        "    columns_to_drop = ['Hospital ID', 'Weight (kg)']\n",
        "    df = df.drop(columns=columns_to_drop)\n",
        "\n",
        "    # Save the prepared dataset\n",
        "    df.to_csv(prepared_dataset_path, index=False)"
      ],
      "metadata": {
        "id": "0K9HsdKJioY2",
        "executionInfo": {
          "status": "ok",
          "timestamp": 1734382874204,
          "user_tz": 480,
          "elapsed": 161,
          "user": {
            "displayName": "",
            "userId": ""
          }
        }
      },
      "id": "0K9HsdKJioY2",
      "execution_count": 91,
      "outputs": []
    },
    {
      "cell_type": "code",
      "source": [
        "@component(packages_to_install=[\"pandas\", \"scikit-learn\", \"imblearn\", \"joblib\", \"numpy\", \"fsspec\", \"gcsfs\"])\n",
        "def split_and_preprocess_data(\n",
        "    prepared_dataset_path: InputPath(),  # Input: Cleaned dataset path\n",
        "    training_dataset_path: OutputPath(),  # Output: Processed training dataset\n",
        "    validation_dataset_path: OutputPath(),  # Output: Processed validation dataset\n",
        "    scaler_path: OutputPath(\"Artifact\")  # Output: Saved scaler artifact\n",
        "):\n",
        "    import pandas as pd\n",
        "    from sklearn.model_selection import train_test_split\n",
        "    from sklearn.preprocessing import StandardScaler\n",
        "    from imblearn.over_sampling import SMOTE\n",
        "    import joblib\n",
        "\n",
        "    # Load dataset\n",
        "    df = pd.read_csv(prepared_dataset_path)\n",
        "\n",
        "    # Ensure all numerical columns are of numeric type\n",
        "    numerical_columns = ['Height (m)', 'BMI', 'Adjusted Weight (kg)', 'Number of Prior Visits',\n",
        "                         'Medications Prescribed', 'Length of Stay']\n",
        "    for col in numerical_columns:\n",
        "        df[col] = pd.to_numeric(df[col], errors='coerce')  # Convert to numeric, set invalid values to NaN\n",
        "    df = df.dropna(subset=numerical_columns)  # Drop rows with NaN in numerical columns\n",
        "\n",
        "    # Binary encoding for binary categorical columns\n",
        "    df['Gender'] = df['Gender'].map({'Male': 0, 'Female': 1})\n",
        "    df['Smoker'] = df['Smoker'].astype(int)\n",
        "\n",
        "    # One-hot encoding for other categorical variables\n",
        "    categorical_columns = ['Ethnicity', 'Diet Type', 'Type of Treatment', 'Exercise Frequency']\n",
        "    df = pd.get_dummies(df, columns=categorical_columns, drop_first=False)\n",
        "\n",
        "  # Separate features and target\n",
        "    X = df.drop(['Readmission within 30 Days', 'PatientID'], axis=1, errors='ignore')  # Drop PatientID explicitly\n",
        "    y = df['Readmission within 30 Days']\n",
        "\n",
        "\n",
        "    # Split dataset into training and validation\n",
        "    X_train, X_val, y_train, y_val = train_test_split(X, y, test_size=0.2, stratify=y, random_state=42)\n",
        "\n",
        "    # Handle imbalanced data using SMOTE\n",
        "    smote = SMOTE(random_state=42)\n",
        "    try:\n",
        "        X_train_resampled, y_train_resampled = smote.fit_resample(X_train, y_train)\n",
        "    except ValueError as e:\n",
        "        raise ValueError(f\"SMOTE failed due to invalid input data: {e}\")\n",
        "\n",
        "    # Scale numerical features\n",
        "    scaler = StandardScaler()\n",
        "    try:\n",
        "        X_train_resampled[numerical_columns] = scaler.fit_transform(X_train_resampled[numerical_columns])\n",
        "        X_val[numerical_columns] = scaler.transform(X_val[numerical_columns])\n",
        "    except ValueError as e:\n",
        "        raise ValueError(f\"Scaling failed due to invalid input data: {e}\")\n",
        "\n",
        "    # Save processed datasets\n",
        "    train_df = pd.DataFrame(X_train_resampled)\n",
        "    train_df['Readmission within 30 Days'] = y_train_resampled\n",
        "    train_df.to_csv(training_dataset_path, index=False)\n",
        "\n",
        "    val_df = pd.DataFrame(X_val)\n",
        "    val_df['Readmission within 30 Days'] = y_val\n",
        "    val_df.to_csv(validation_dataset_path, index=False)\n",
        "\n",
        "    # Save scaler\n",
        "    joblib.dump(scaler, scaler_path)"
      ],
      "metadata": {
        "id": "hZ5vsfVfisSn",
        "executionInfo": {
          "status": "ok",
          "timestamp": 1734382876501,
          "user_tz": 480,
          "elapsed": 198,
          "user": {
            "displayName": "",
            "userId": ""
          }
        }
      },
      "id": "hZ5vsfVfisSn",
      "execution_count": 92,
      "outputs": []
    },
    {
      "cell_type": "code",
      "source": [
        "\n",
        "@component(packages_to_install=[\"pandas\", \"xgboost\", \"joblib\", \"fsspec\", \"gcsfs\", \"scikit-learn\"])\n",
        "def train_model(\n",
        "    training_dataset_path: InputPath(),  # Input: Processed training dataset\n",
        "    trained_model_path: OutputPath(\"Artifact\"),  # Output: Trained model artifact\n",
        "    gcs_dump_path: str  # Additional input: Path to dump the training data\n",
        "):\n",
        "    import pandas as pd\n",
        "    from xgboost import XGBClassifier\n",
        "    import joblib\n",
        "    import gcsfs\n",
        "\n",
        "    # Load training data\n",
        "    df_train = pd.read_csv(training_dataset_path)\n",
        "\n",
        "    # Separate features and target\n",
        "    X_train = df_train.drop('Readmission within 30 Days', axis=1)\n",
        "    y_train = df_train['Readmission within 30 Days']\n",
        "\n",
        "    # Dump the training data to GCS for review\n",
        "    fs = gcsfs.GCSFileSystem()\n",
        "    with fs.open(f\"{gcs_dump_path}/xgb_training_data.csv\", 'w') as f:\n",
        "        X_train.to_csv(f, index=False)\n",
        "    print(\"Training DataFrame dumped to GCS.\")\n",
        "\n",
        "    # Print a preview of the data\n",
        "    print(\"Training DataFrame (X_train) Preview:\")\n",
        "    print(X_train.head())\n",
        "\n",
        "    # Train the model\n",
        "    xgb = XGBClassifier(\n",
        "        random_state=42,\n",
        "        learning_rate=0.2,\n",
        "        max_depth=7,\n",
        "        n_estimators=200,\n",
        "        subsample=0.8,\n",
        "        colsample_bytree=0.8,\n",
        "        eval_metric=\"logloss\"\n",
        "    )\n",
        "    xgb.fit(X_train, y_train)\n",
        "\n",
        "    # Save the trained model\n",
        "    joblib.dump(xgb, trained_model_path)\n",
        "    print(f\"Model trained and saved to {trained_model_path}\")\n",
        "\n",
        "\n"
      ],
      "metadata": {
        "id": "wWa4fwjiivqC",
        "executionInfo": {
          "status": "ok",
          "timestamp": 1734382883310,
          "user_tz": 480,
          "elapsed": 186,
          "user": {
            "displayName": "",
            "userId": ""
          }
        }
      },
      "id": "wWa4fwjiivqC",
      "execution_count": 93,
      "outputs": []
    },
    {
      "cell_type": "code",
      "source": [
        "from kfp.v2.dsl import component, InputPath, Output, Metrics\n",
        "\n",
        "@component(packages_to_install=[\"pandas\", \"scikit-learn\", \"joblib\", \"xgboost\", \"fsspec\", \"gcsfs\"])\n",
        "def evaluate_model(\n",
        "    validation_dataset_path: InputPath(),  # Input: Validation (test) dataset\n",
        "    trained_model_path: InputPath(\"Artifact\"),  # Input: Trained model\n",
        "    metrics: Output[Metrics]  # Output: Metrics to log\n",
        "):\n",
        "    import pandas as pd\n",
        "    from sklearn.metrics import (\n",
        "        accuracy_score,\n",
        "        f1_score,\n",
        "        auc,\n",
        "        precision_recall_curve,\n",
        "        confusion_matrix\n",
        "    )\n",
        "    import joblib\n",
        "\n",
        "    # Load validation (test) dataset\n",
        "    val_df = pd.read_csv(validation_dataset_path)\n",
        "\n",
        "    # Separate features and target\n",
        "    X_val = val_df.drop('Readmission within 30 Days', axis=1)\n",
        "    y_val = val_df['Readmission within 30 Days']\n",
        "\n",
        "    # Load the trained model\n",
        "    model = joblib.load(trained_model_path)\n",
        "\n",
        "    # Make predictions\n",
        "    y_pred = model.predict(X_val)\n",
        "    y_pred_proba = model.predict_proba(X_val)[:, 1]\n",
        "\n",
        "    # Calculate core metrics\n",
        "    accuracy = accuracy_score(y_val, y_pred)\n",
        "    f1 = f1_score(y_val, y_pred)\n",
        "\n",
        "    # Calculate area under precision-recall curve (AU-PRC)\n",
        "    precision_curve, recall_curve, _ = precision_recall_curve(y_val, y_pred_proba)\n",
        "    auprc = auc(recall_curve, precision_curve)\n",
        "\n",
        "    # Confusion matrix for calculating TP, TN, FP, FN\n",
        "    tn, fp, fn, tp = confusion_matrix(y_val, y_pred).ravel()\n",
        "\n",
        "    # Log required metrics\n",
        "       # Convert metrics to Python native types\n",
        "    accuracy = float(accuracy)\n",
        "    f1 = float(f1)\n",
        "    auprc = float(auprc)\n",
        "    tn, fp, fn, tp = map(int, [tn, fp, fn, tp])  # Convert to native int\n",
        "\n",
        "    # Log required metrics\n",
        "    metrics.log_metric(\"accuracy\", accuracy)\n",
        "    metrics.log_metric(\"f1_score\", f1)\n",
        "    metrics.log_metric(\"area_under_precision_recall_curve\", auprc)\n",
        "    metrics.log_metric(\"true_positives\", tp)\n",
        "    metrics.log_metric(\"true_negatives\", tn)\n",
        "    metrics.log_metric(\"false_positives\", fp)\n",
        "    metrics.log_metric(\"false_negatives\", fn)\n",
        "\n",
        "\n",
        "    # Optional: Print evaluation metrics for debugging\n",
        "    print(f\"Evaluation Metrics:\\nAccuracy: {accuracy}\\nF1 Score: {f1}\\nArea Under Precision-Recall Curve (AU-PRC): {auprc}\")\n",
        "    print(f\"Confusion Matrix: TP={tp}, TN={tn}, FP={fp}, FN={fn}\")\n"
      ],
      "metadata": {
        "id": "LoAF12DVi1eM",
        "executionInfo": {
          "status": "ok",
          "timestamp": 1734382887152,
          "user_tz": 480,
          "elapsed": 219,
          "user": {
            "displayName": "",
            "userId": ""
          }
        }
      },
      "id": "LoAF12DVi1eM",
      "execution_count": 94,
      "outputs": []
    },
    {
      "cell_type": "code",
      "source": [
        "@pipeline(name=\"healthcare-readmissions-training-pipeline\")\n",
        "def healthcare_readmissions_pipeline(input_dataset_path: str):\n",
        "    # Step 1: Initial data preparation\n",
        "    prepared_data = initial_data_preparation(input_dataset_path=input_dataset_path)\n",
        "\n",
        "    # Step 2: Split, encode, and preprocess\n",
        "    processed_data = split_and_preprocess_data(\n",
        "        prepared_dataset_path=prepared_data.outputs['prepared_dataset_path']\n",
        "    )\n",
        "\n",
        "    # Step 3: Train the model\n",
        "    trained_model = train_model(\n",
        "        training_dataset_path=processed_data.outputs['training_dataset_path'],\n",
        "        gcs_dump_path=\"gs://healthcare_readmissions/debugdatasets\"  # Replace with your GCS bucket path\n",
        "    )\n",
        "\n",
        "    # Step 4: Evaluate the model\n",
        "    evaluate_model(\n",
        "        validation_dataset_path=processed_data.outputs['validation_dataset_path'],\n",
        "        trained_model_path=trained_model.outputs['trained_model_path']\n",
        "    )\n"
      ],
      "metadata": {
        "id": "ZUrxcsLDi2fC",
        "executionInfo": {
          "status": "ok",
          "timestamp": 1734383118371,
          "user_tz": 480,
          "elapsed": 238,
          "user": {
            "displayName": "",
            "userId": ""
          }
        }
      },
      "id": "ZUrxcsLDi2fC",
      "execution_count": 104,
      "outputs": []
    },
    {
      "cell_type": "code",
      "source": [
        "# Compile the pipeline\n",
        "from kfp.v2 import compiler\n",
        "\n",
        "compiler.Compiler().compile(\n",
        "    pipeline_func=healthcare_readmissions_pipeline,\n",
        "    package_path='healthcare_readmissions_pipeline.json'\n",
        ")\n",
        "\n",
        "# Run the pipeline\n",
        "pipeline_job = aiplatform.PipelineJob(\n",
        "    display_name='healthcare-readmissions-training-pipeline',\n",
        "    template_path='healthcare_readmissions_pipeline.json',\n",
        "    pipeline_root='gs://healthcare_readmissions',\n",
        "    parameter_values={\n",
        "        'input_dataset_path': 'gs://healthcare_readmissions/healthcare_readmissions_dataset_train.csv'\n",
        "    },\n",
        "    enable_caching=True\n",
        ")\n",
        "\n",
        "pipeline_job.run()"
      ],
      "metadata": {
        "colab": {
          "base_uri": "https://localhost:8080/"
        },
        "id": "yb3m7Itei5d_",
        "executionInfo": {
          "status": "ok",
          "timestamp": 1734383442979,
          "user_tz": 480,
          "elapsed": 322336,
          "user": {
            "displayName": "",
            "userId": ""
          }
        },
        "outputId": "f5ed042c-dc6e-4b27-a94c-b5efb2e4ccef"
      },
      "id": "yb3m7Itei5d_",
      "execution_count": 105,
      "outputs": [
        {
          "output_type": "stream",
          "name": "stderr",
          "text": [
            "INFO:google.cloud.aiplatform.pipeline_jobs:Creating PipelineJob\n",
            "INFO:google.cloud.aiplatform.pipeline_jobs:PipelineJob created. Resource name: projects/853819008626/locations/us-central1/pipelineJobs/healthcare-readmissions-training-pipeline-20241216210520\n",
            "INFO:google.cloud.aiplatform.pipeline_jobs:To use this PipelineJob in another session:\n",
            "INFO:google.cloud.aiplatform.pipeline_jobs:pipeline_job = aiplatform.PipelineJob.get('projects/853819008626/locations/us-central1/pipelineJobs/healthcare-readmissions-training-pipeline-20241216210520')\n",
            "INFO:google.cloud.aiplatform.pipeline_jobs:View Pipeline Job:\n",
            "https://console.cloud.google.com/vertex-ai/locations/us-central1/pipelines/runs/healthcare-readmissions-training-pipeline-20241216210520?project=853819008626\n",
            "INFO:google.cloud.aiplatform.pipeline_jobs:PipelineJob projects/853819008626/locations/us-central1/pipelineJobs/healthcare-readmissions-training-pipeline-20241216210520 current state:\n",
            "PipelineState.PIPELINE_STATE_RUNNING\n",
            "INFO:google.cloud.aiplatform.pipeline_jobs:PipelineJob projects/853819008626/locations/us-central1/pipelineJobs/healthcare-readmissions-training-pipeline-20241216210520 current state:\n",
            "PipelineState.PIPELINE_STATE_RUNNING\n",
            "INFO:google.cloud.aiplatform.pipeline_jobs:PipelineJob projects/853819008626/locations/us-central1/pipelineJobs/healthcare-readmissions-training-pipeline-20241216210520 current state:\n",
            "PipelineState.PIPELINE_STATE_RUNNING\n",
            "INFO:google.cloud.aiplatform.pipeline_jobs:PipelineJob projects/853819008626/locations/us-central1/pipelineJobs/healthcare-readmissions-training-pipeline-20241216210520 current state:\n",
            "PipelineState.PIPELINE_STATE_RUNNING\n",
            "INFO:google.cloud.aiplatform.pipeline_jobs:PipelineJob projects/853819008626/locations/us-central1/pipelineJobs/healthcare-readmissions-training-pipeline-20241216210520 current state:\n",
            "PipelineState.PIPELINE_STATE_RUNNING\n",
            "INFO:google.cloud.aiplatform.pipeline_jobs:PipelineJob run completed. Resource name: projects/853819008626/locations/us-central1/pipelineJobs/healthcare-readmissions-training-pipeline-20241216210520\n"
          ]
        }
      ]
    }
  ],
  "metadata": {
    "kernelspec": {
      "display_name": "Python 3",
      "language": "python",
      "name": "python3"
    },
    "language_info": {
      "codemirror_mode": {
        "name": "ipython",
        "version": 3
      },
      "file_extension": ".py",
      "mimetype": "text/x-python",
      "name": "python",
      "nbconvert_exporter": "python",
      "pygments_lexer": "ipython3",
      "version": "3.10.10"
    },
    "colab": {
      "provenance": [],
      "name": "Training_Pipeline_FinalProject 2.0"
    }
  },
  "nbformat": 4,
  "nbformat_minor": 5
}