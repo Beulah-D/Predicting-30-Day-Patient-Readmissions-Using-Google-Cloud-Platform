{
  "cells": [
    {
      "cell_type": "code",
      "source": [
        "! pip install kfp"
      ],
      "metadata": {
        "colab": {
          "base_uri": "https://localhost:8080/"
        },
        "id": "ucdFhnTdkKzM",
        "executionInfo": {
          "status": "ok",
          "timestamp": 1734482629294,
          "user_tz": 480,
          "elapsed": 11211,
          "user": {
            "displayName": "",
            "userId": ""
          }
        },
        "outputId": "e1282dc5-e52a-4b4a-d5eb-7be9dd2801f3"
      },
      "id": "ucdFhnTdkKzM",
      "execution_count": 1,
      "outputs": [
        {
          "output_type": "stream",
          "name": "stdout",
          "text": [
            "Collecting kfp\n",
            "  Downloading kfp-2.11.0.tar.gz (345 kB)\n",
            "\u001b[?25l     \u001b[90m━━━━━━━━━━━━━━━━━━━━━━━━━━━━━━━━━━━━━━━━\u001b[0m \u001b[32m0.0/345.4 kB\u001b[0m \u001b[31m?\u001b[0m eta \u001b[36m-:--:--\u001b[0m\r\u001b[2K     \u001b[91m━━━━━━━━━━━━━━━━━━━━━━━━━━━━━━\u001b[0m\u001b[91m╸\u001b[0m\u001b[90m━━━━━━━━━\u001b[0m \u001b[32m266.2/345.4 kB\u001b[0m \u001b[31m7.8 MB/s\u001b[0m eta \u001b[36m0:00:01\u001b[0m\r\u001b[2K     \u001b[90m━━━━━━━━━━━━━━━━━━━━━━━━━━━━━━━━━━━━━━━━\u001b[0m \u001b[32m345.4/345.4 kB\u001b[0m \u001b[31m7.0 MB/s\u001b[0m eta \u001b[36m0:00:00\u001b[0m\n",
            "\u001b[?25h  Preparing metadata (setup.py) ... \u001b[?25l\u001b[?25hdone\n",
            "Requirement already satisfied: click<9,>=8.0.0 in /usr/local/lib/python3.10/dist-packages (from kfp) (8.1.7)\n",
            "Requirement already satisfied: docstring-parser<1,>=0.7.3 in /usr/local/lib/python3.10/dist-packages (from kfp) (0.16)\n",
            "Requirement already satisfied: google-api-core!=2.0.*,!=2.1.*,!=2.2.*,!=2.3.0,<3.0.0dev,>=1.31.5 in /usr/local/lib/python3.10/dist-packages (from kfp) (2.19.2)\n",
            "Requirement already satisfied: google-auth<3,>=1.6.1 in /usr/local/lib/python3.10/dist-packages (from kfp) (2.27.0)\n",
            "Requirement already satisfied: google-cloud-storage<3,>=2.2.1 in /usr/local/lib/python3.10/dist-packages (from kfp) (2.8.0)\n",
            "Collecting kfp-pipeline-spec==0.6.0 (from kfp)\n",
            "  Downloading kfp_pipeline_spec-0.6.0-py3-none-any.whl.metadata (293 bytes)\n",
            "Collecting kfp-server-api<2.4.0,>=2.1.0 (from kfp)\n",
            "  Downloading kfp_server_api-2.3.0.tar.gz (84 kB)\n",
            "\u001b[2K     \u001b[90m━━━━━━━━━━━━━━━━━━━━━━━━━━━━━━━━━━━━━━━━\u001b[0m \u001b[32m84.0/84.0 kB\u001b[0m \u001b[31m10.2 MB/s\u001b[0m eta \u001b[36m0:00:00\u001b[0m\n",
            "\u001b[?25h  Preparing metadata (setup.py) ... \u001b[?25l\u001b[?25hdone\n",
            "Collecting kubernetes<31,>=8.0.0 (from kfp)\n",
            "  Downloading kubernetes-30.1.0-py2.py3-none-any.whl.metadata (1.5 kB)\n",
            "Requirement already satisfied: protobuf<5,>=4.21.1 in /usr/local/lib/python3.10/dist-packages (from kfp) (4.25.5)\n",
            "Requirement already satisfied: PyYAML<7,>=5.3 in /usr/local/lib/python3.10/dist-packages (from kfp) (6.0.2)\n",
            "Collecting requests-toolbelt<1,>=0.8.0 (from kfp)\n",
            "  Downloading requests_toolbelt-0.10.1-py2.py3-none-any.whl.metadata (14 kB)\n",
            "Requirement already satisfied: tabulate<1,>=0.8.6 in /usr/local/lib/python3.10/dist-packages (from kfp) (0.9.0)\n",
            "Collecting urllib3<2.0.0 (from kfp)\n",
            "  Downloading urllib3-1.26.20-py2.py3-none-any.whl.metadata (50 kB)\n",
            "\u001b[2K     \u001b[90m━━━━━━━━━━━━━━━━━━━━━━━━━━━━━━━━━━━━━━━━\u001b[0m \u001b[32m50.1/50.1 kB\u001b[0m \u001b[31m6.1 MB/s\u001b[0m eta \u001b[36m0:00:00\u001b[0m\n",
            "\u001b[?25hRequirement already satisfied: googleapis-common-protos<2.0.dev0,>=1.56.2 in /usr/local/lib/python3.10/dist-packages (from google-api-core!=2.0.*,!=2.1.*,!=2.2.*,!=2.3.0,<3.0.0dev,>=1.31.5->kfp) (1.66.0)\n",
            "Requirement already satisfied: proto-plus<2.0.0dev,>=1.22.3 in /usr/local/lib/python3.10/dist-packages (from google-api-core!=2.0.*,!=2.1.*,!=2.2.*,!=2.3.0,<3.0.0dev,>=1.31.5->kfp) (1.25.0)\n",
            "Requirement already satisfied: requests<3.0.0.dev0,>=2.18.0 in /usr/local/lib/python3.10/dist-packages (from google-api-core!=2.0.*,!=2.1.*,!=2.2.*,!=2.3.0,<3.0.0dev,>=1.31.5->kfp) (2.32.3)\n",
            "Requirement already satisfied: cachetools<6.0,>=2.0.0 in /usr/local/lib/python3.10/dist-packages (from google-auth<3,>=1.6.1->kfp) (5.5.0)\n",
            "Requirement already satisfied: pyasn1-modules>=0.2.1 in /usr/local/lib/python3.10/dist-packages (from google-auth<3,>=1.6.1->kfp) (0.4.1)\n",
            "Requirement already satisfied: rsa<5,>=3.1.4 in /usr/local/lib/python3.10/dist-packages (from google-auth<3,>=1.6.1->kfp) (4.9)\n",
            "Requirement already satisfied: google-cloud-core<3.0dev,>=2.3.0 in /usr/local/lib/python3.10/dist-packages (from google-cloud-storage<3,>=2.2.1->kfp) (2.4.1)\n",
            "Requirement already satisfied: google-resumable-media>=2.3.2 in /usr/local/lib/python3.10/dist-packages (from google-cloud-storage<3,>=2.2.1->kfp) (2.7.2)\n",
            "Requirement already satisfied: six>=1.10 in /usr/local/lib/python3.10/dist-packages (from kfp-server-api<2.4.0,>=2.1.0->kfp) (1.16.0)\n",
            "Requirement already satisfied: certifi in /usr/local/lib/python3.10/dist-packages (from kfp-server-api<2.4.0,>=2.1.0->kfp) (2024.8.30)\n",
            "Requirement already satisfied: python-dateutil in /usr/local/lib/python3.10/dist-packages (from kfp-server-api<2.4.0,>=2.1.0->kfp) (2.8.2)\n",
            "Requirement already satisfied: websocket-client!=0.40.0,!=0.41.*,!=0.42.*,>=0.32.0 in /usr/local/lib/python3.10/dist-packages (from kubernetes<31,>=8.0.0->kfp) (1.8.0)\n",
            "Requirement already satisfied: requests-oauthlib in /usr/local/lib/python3.10/dist-packages (from kubernetes<31,>=8.0.0->kfp) (1.3.1)\n",
            "Requirement already satisfied: oauthlib>=3.2.2 in /usr/local/lib/python3.10/dist-packages (from kubernetes<31,>=8.0.0->kfp) (3.2.2)\n",
            "Requirement already satisfied: google-crc32c<2.0dev,>=1.0 in /usr/local/lib/python3.10/dist-packages (from google-resumable-media>=2.3.2->google-cloud-storage<3,>=2.2.1->kfp) (1.6.0)\n",
            "Requirement already satisfied: pyasn1<0.7.0,>=0.4.6 in /usr/local/lib/python3.10/dist-packages (from pyasn1-modules>=0.2.1->google-auth<3,>=1.6.1->kfp) (0.6.1)\n",
            "Requirement already satisfied: charset-normalizer<4,>=2 in /usr/local/lib/python3.10/dist-packages (from requests<3.0.0.dev0,>=2.18.0->google-api-core!=2.0.*,!=2.1.*,!=2.2.*,!=2.3.0,<3.0.0dev,>=1.31.5->kfp) (3.4.0)\n",
            "Requirement already satisfied: idna<4,>=2.5 in /usr/local/lib/python3.10/dist-packages (from requests<3.0.0.dev0,>=2.18.0->google-api-core!=2.0.*,!=2.1.*,!=2.2.*,!=2.3.0,<3.0.0dev,>=1.31.5->kfp) (3.10)\n",
            "Downloading kfp_pipeline_spec-0.6.0-py3-none-any.whl (9.1 kB)\n",
            "Downloading kubernetes-30.1.0-py2.py3-none-any.whl (1.7 MB)\n",
            "\u001b[2K   \u001b[90m━━━━━━━━━━━━━━━━━━━━━━━━━━━━━━━━━━━━━━━━\u001b[0m \u001b[32m1.7/1.7 MB\u001b[0m \u001b[31m43.8 MB/s\u001b[0m eta \u001b[36m0:00:00\u001b[0m\n",
            "\u001b[?25hDownloading requests_toolbelt-0.10.1-py2.py3-none-any.whl (54 kB)\n",
            "\u001b[2K   \u001b[90m━━━━━━━━━━━━━━━━━━━━━━━━━━━━━━━━━━━━━━━━\u001b[0m \u001b[32m54.5/54.5 kB\u001b[0m \u001b[31m6.8 MB/s\u001b[0m eta \u001b[36m0:00:00\u001b[0m\n",
            "\u001b[?25hDownloading urllib3-1.26.20-py2.py3-none-any.whl (144 kB)\n",
            "\u001b[2K   \u001b[90m━━━━━━━━━━━━━━━━━━━━━━━━━━━━━━━━━━━━━━━━\u001b[0m \u001b[32m144.2/144.2 kB\u001b[0m \u001b[31m17.4 MB/s\u001b[0m eta \u001b[36m0:00:00\u001b[0m\n",
            "\u001b[?25hBuilding wheels for collected packages: kfp, kfp-server-api\n",
            "  Building wheel for kfp (setup.py) ... \u001b[?25l\u001b[?25hdone\n",
            "  Created wheel for kfp: filename=kfp-2.11.0-py3-none-any.whl size=366403 sha256=5aff2972c33182ad111ea21e14eaae271d0da4587e53a24ff25a6ab03e06c9c4\n",
            "  Stored in directory: /root/.cache/pip/wheels/a2/20/d2/b43519f79db0c7d6530f59dc4aabd9f450bccf5e018aee59aa\n",
            "  Building wheel for kfp-server-api (setup.py) ... \u001b[?25l\u001b[?25hdone\n",
            "  Created wheel for kfp-server-api: filename=kfp_server_api-2.3.0-py3-none-any.whl size=116407 sha256=b68006dc91f71c78d481937e711b472e13bd25df539ef1945afc09f3662bb952\n",
            "  Stored in directory: /root/.cache/pip/wheels/4f/f2/84/e4da136339a1cf32250c1e1ba680a8d1e1c5ca07e322facb7e\n",
            "Successfully built kfp kfp-server-api\n",
            "Installing collected packages: urllib3, kfp-pipeline-spec, kfp-server-api, requests-toolbelt, kubernetes, kfp\n",
            "  Attempting uninstall: urllib3\n",
            "    Found existing installation: urllib3 2.2.3\n",
            "    Uninstalling urllib3-2.2.3:\n",
            "      Successfully uninstalled urllib3-2.2.3\n",
            "  Attempting uninstall: requests-toolbelt\n",
            "    Found existing installation: requests-toolbelt 1.0.0\n",
            "    Uninstalling requests-toolbelt-1.0.0:\n",
            "      Successfully uninstalled requests-toolbelt-1.0.0\n",
            "\u001b[31mERROR: pip's dependency resolver does not currently take into account all the packages that are installed. This behaviour is the source of the following dependency conflicts.\n",
            "langsmith 0.1.147 requires requests-toolbelt<2.0.0,>=1.0.0, but you have requests-toolbelt 0.10.1 which is incompatible.\u001b[0m\u001b[31m\n",
            "\u001b[0mSuccessfully installed kfp-2.11.0 kfp-pipeline-spec-0.6.0 kfp-server-api-2.3.0 kubernetes-30.1.0 requests-toolbelt-0.10.1 urllib3-1.26.20\n"
          ]
        }
      ]
    },
    {
      "cell_type": "code",
      "source": [
        "!pip install google-cloud-pipeline-components"
      ],
      "metadata": {
        "colab": {
          "base_uri": "https://localhost:8080/"
        },
        "id": "KXFK0PHDkLn2",
        "executionInfo": {
          "status": "ok",
          "timestamp": 1734482639420,
          "user_tz": 480,
          "elapsed": 10129,
          "user": {
            "displayName": "",
            "userId": ""
          }
        },
        "outputId": "8868b002-8bde-4b67-add4-00698e4b3fe9"
      },
      "id": "KXFK0PHDkLn2",
      "execution_count": 2,
      "outputs": [
        {
          "output_type": "stream",
          "name": "stdout",
          "text": [
            "Collecting google-cloud-pipeline-components\n",
            "  Downloading google_cloud_pipeline_components-2.18.0-py3-none-any.whl.metadata (6.0 kB)\n",
            "Requirement already satisfied: google-api-core!=2.0.*,!=2.1.*,!=2.2.*,!=2.3.0,<3.0.0dev,>=1.31.5 in /usr/local/lib/python3.10/dist-packages (from google-cloud-pipeline-components) (2.19.2)\n",
            "Collecting kfp<2.11.0,>=2.6.0 (from google-cloud-pipeline-components)\n",
            "  Downloading kfp-2.10.1.tar.gz (343 kB)\n",
            "\u001b[2K     \u001b[90m━━━━━━━━━━━━━━━━━━━━━━━━━━━━━━━━━━━━━━━━\u001b[0m \u001b[32m343.6/343.6 kB\u001b[0m \u001b[31m6.1 MB/s\u001b[0m eta \u001b[36m0:00:00\u001b[0m\n",
            "\u001b[?25h  Preparing metadata (setup.py) ... \u001b[?25l\u001b[?25hdone\n",
            "Requirement already satisfied: google-cloud-aiplatform<2,>=1.14.0 in /usr/local/lib/python3.10/dist-packages (from google-cloud-pipeline-components) (1.71.1)\n",
            "Requirement already satisfied: Jinja2<4,>=3.1.2 in /usr/local/lib/python3.10/dist-packages (from google-cloud-pipeline-components) (3.1.4)\n",
            "Requirement already satisfied: googleapis-common-protos<2.0.dev0,>=1.56.2 in /usr/local/lib/python3.10/dist-packages (from google-api-core!=2.0.*,!=2.1.*,!=2.2.*,!=2.3.0,<3.0.0dev,>=1.31.5->google-cloud-pipeline-components) (1.66.0)\n",
            "Requirement already satisfied: protobuf!=3.20.0,!=3.20.1,!=4.21.0,!=4.21.1,!=4.21.2,!=4.21.3,!=4.21.4,!=4.21.5,<6.0.0.dev0,>=3.19.5 in /usr/local/lib/python3.10/dist-packages (from google-api-core!=2.0.*,!=2.1.*,!=2.2.*,!=2.3.0,<3.0.0dev,>=1.31.5->google-cloud-pipeline-components) (4.25.5)\n",
            "Requirement already satisfied: proto-plus<2.0.0dev,>=1.22.3 in /usr/local/lib/python3.10/dist-packages (from google-api-core!=2.0.*,!=2.1.*,!=2.2.*,!=2.3.0,<3.0.0dev,>=1.31.5->google-cloud-pipeline-components) (1.25.0)\n",
            "Requirement already satisfied: google-auth<3.0.dev0,>=2.14.1 in /usr/local/lib/python3.10/dist-packages (from google-api-core!=2.0.*,!=2.1.*,!=2.2.*,!=2.3.0,<3.0.0dev,>=1.31.5->google-cloud-pipeline-components) (2.27.0)\n",
            "Requirement already satisfied: requests<3.0.0.dev0,>=2.18.0 in /usr/local/lib/python3.10/dist-packages (from google-api-core!=2.0.*,!=2.1.*,!=2.2.*,!=2.3.0,<3.0.0dev,>=1.31.5->google-cloud-pipeline-components) (2.32.3)\n",
            "Requirement already satisfied: packaging>=14.3 in /usr/local/lib/python3.10/dist-packages (from google-cloud-aiplatform<2,>=1.14.0->google-cloud-pipeline-components) (24.2)\n",
            "Requirement already satisfied: google-cloud-storage<3.0.0dev,>=1.32.0 in /usr/local/lib/python3.10/dist-packages (from google-cloud-aiplatform<2,>=1.14.0->google-cloud-pipeline-components) (2.8.0)\n",
            "Requirement already satisfied: google-cloud-bigquery!=3.20.0,<4.0.0dev,>=1.15.0 in /usr/local/lib/python3.10/dist-packages (from google-cloud-aiplatform<2,>=1.14.0->google-cloud-pipeline-components) (3.25.0)\n",
            "Requirement already satisfied: google-cloud-resource-manager<3.0.0dev,>=1.3.3 in /usr/local/lib/python3.10/dist-packages (from google-cloud-aiplatform<2,>=1.14.0->google-cloud-pipeline-components) (1.13.1)\n",
            "Requirement already satisfied: shapely<3.0.0dev in /usr/local/lib/python3.10/dist-packages (from google-cloud-aiplatform<2,>=1.14.0->google-cloud-pipeline-components) (2.0.6)\n",
            "Requirement already satisfied: pydantic<3 in /usr/local/lib/python3.10/dist-packages (from google-cloud-aiplatform<2,>=1.14.0->google-cloud-pipeline-components) (2.10.2)\n",
            "Requirement already satisfied: docstring-parser<1 in /usr/local/lib/python3.10/dist-packages (from google-cloud-aiplatform<2,>=1.14.0->google-cloud-pipeline-components) (0.16)\n",
            "Requirement already satisfied: MarkupSafe>=2.0 in /usr/local/lib/python3.10/dist-packages (from Jinja2<4,>=3.1.2->google-cloud-pipeline-components) (3.0.2)\n",
            "Requirement already satisfied: click<9,>=8.0.0 in /usr/local/lib/python3.10/dist-packages (from kfp<2.11.0,>=2.6.0->google-cloud-pipeline-components) (8.1.7)\n",
            "Collecting kfp-pipeline-spec==0.5.0 (from kfp<2.11.0,>=2.6.0->google-cloud-pipeline-components)\n",
            "  Downloading kfp_pipeline_spec-0.5.0-py3-none-any.whl.metadata (293 bytes)\n",
            "Requirement already satisfied: kfp-server-api<2.4.0,>=2.1.0 in /usr/local/lib/python3.10/dist-packages (from kfp<2.11.0,>=2.6.0->google-cloud-pipeline-components) (2.3.0)\n",
            "Requirement already satisfied: kubernetes<31,>=8.0.0 in /usr/local/lib/python3.10/dist-packages (from kfp<2.11.0,>=2.6.0->google-cloud-pipeline-components) (30.1.0)\n",
            "Requirement already satisfied: PyYAML<7,>=5.3 in /usr/local/lib/python3.10/dist-packages (from kfp<2.11.0,>=2.6.0->google-cloud-pipeline-components) (6.0.2)\n",
            "Requirement already satisfied: requests-toolbelt<1,>=0.8.0 in /usr/local/lib/python3.10/dist-packages (from kfp<2.11.0,>=2.6.0->google-cloud-pipeline-components) (0.10.1)\n",
            "Requirement already satisfied: tabulate<1,>=0.8.6 in /usr/local/lib/python3.10/dist-packages (from kfp<2.11.0,>=2.6.0->google-cloud-pipeline-components) (0.9.0)\n",
            "Requirement already satisfied: urllib3<2.0.0 in /usr/local/lib/python3.10/dist-packages (from kfp<2.11.0,>=2.6.0->google-cloud-pipeline-components) (1.26.20)\n",
            "Requirement already satisfied: grpcio<2.0dev,>=1.33.2 in /usr/local/lib/python3.10/dist-packages (from google-api-core[grpc]!=2.0.*,!=2.1.*,!=2.2.*,!=2.3.*,!=2.4.*,!=2.5.*,!=2.6.*,!=2.7.*,<3.0.0dev,>=1.34.1->google-cloud-aiplatform<2,>=1.14.0->google-cloud-pipeline-components) (1.68.1)\n",
            "Requirement already satisfied: grpcio-status<2.0.dev0,>=1.33.2 in /usr/local/lib/python3.10/dist-packages (from google-api-core[grpc]!=2.0.*,!=2.1.*,!=2.2.*,!=2.3.*,!=2.4.*,!=2.5.*,!=2.6.*,!=2.7.*,<3.0.0dev,>=1.34.1->google-cloud-aiplatform<2,>=1.14.0->google-cloud-pipeline-components) (1.62.3)\n",
            "Requirement already satisfied: cachetools<6.0,>=2.0.0 in /usr/local/lib/python3.10/dist-packages (from google-auth<3.0.dev0,>=2.14.1->google-api-core!=2.0.*,!=2.1.*,!=2.2.*,!=2.3.0,<3.0.0dev,>=1.31.5->google-cloud-pipeline-components) (5.5.0)\n",
            "Requirement already satisfied: pyasn1-modules>=0.2.1 in /usr/local/lib/python3.10/dist-packages (from google-auth<3.0.dev0,>=2.14.1->google-api-core!=2.0.*,!=2.1.*,!=2.2.*,!=2.3.0,<3.0.0dev,>=1.31.5->google-cloud-pipeline-components) (0.4.1)\n",
            "Requirement already satisfied: rsa<5,>=3.1.4 in /usr/local/lib/python3.10/dist-packages (from google-auth<3.0.dev0,>=2.14.1->google-api-core!=2.0.*,!=2.1.*,!=2.2.*,!=2.3.0,<3.0.0dev,>=1.31.5->google-cloud-pipeline-components) (4.9)\n",
            "Requirement already satisfied: google-cloud-core<3.0.0dev,>=1.6.0 in /usr/local/lib/python3.10/dist-packages (from google-cloud-bigquery!=3.20.0,<4.0.0dev,>=1.15.0->google-cloud-aiplatform<2,>=1.14.0->google-cloud-pipeline-components) (2.4.1)\n",
            "Requirement already satisfied: google-resumable-media<3.0dev,>=0.6.0 in /usr/local/lib/python3.10/dist-packages (from google-cloud-bigquery!=3.20.0,<4.0.0dev,>=1.15.0->google-cloud-aiplatform<2,>=1.14.0->google-cloud-pipeline-components) (2.7.2)\n",
            "Requirement already satisfied: python-dateutil<3.0dev,>=2.7.2 in /usr/local/lib/python3.10/dist-packages (from google-cloud-bigquery!=3.20.0,<4.0.0dev,>=1.15.0->google-cloud-aiplatform<2,>=1.14.0->google-cloud-pipeline-components) (2.8.2)\n",
            "Requirement already satisfied: grpc-google-iam-v1<1.0.0dev,>=0.12.4 in /usr/local/lib/python3.10/dist-packages (from google-cloud-resource-manager<3.0.0dev,>=1.3.3->google-cloud-aiplatform<2,>=1.14.0->google-cloud-pipeline-components) (0.13.1)\n",
            "Requirement already satisfied: six>=1.10 in /usr/local/lib/python3.10/dist-packages (from kfp-server-api<2.4.0,>=2.1.0->kfp<2.11.0,>=2.6.0->google-cloud-pipeline-components) (1.16.0)\n",
            "Requirement already satisfied: certifi in /usr/local/lib/python3.10/dist-packages (from kfp-server-api<2.4.0,>=2.1.0->kfp<2.11.0,>=2.6.0->google-cloud-pipeline-components) (2024.8.30)\n",
            "Requirement already satisfied: websocket-client!=0.40.0,!=0.41.*,!=0.42.*,>=0.32.0 in /usr/local/lib/python3.10/dist-packages (from kubernetes<31,>=8.0.0->kfp<2.11.0,>=2.6.0->google-cloud-pipeline-components) (1.8.0)\n",
            "Requirement already satisfied: requests-oauthlib in /usr/local/lib/python3.10/dist-packages (from kubernetes<31,>=8.0.0->kfp<2.11.0,>=2.6.0->google-cloud-pipeline-components) (1.3.1)\n",
            "Requirement already satisfied: oauthlib>=3.2.2 in /usr/local/lib/python3.10/dist-packages (from kubernetes<31,>=8.0.0->kfp<2.11.0,>=2.6.0->google-cloud-pipeline-components) (3.2.2)\n",
            "Requirement already satisfied: annotated-types>=0.6.0 in /usr/local/lib/python3.10/dist-packages (from pydantic<3->google-cloud-aiplatform<2,>=1.14.0->google-cloud-pipeline-components) (0.7.0)\n",
            "Requirement already satisfied: pydantic-core==2.27.1 in /usr/local/lib/python3.10/dist-packages (from pydantic<3->google-cloud-aiplatform<2,>=1.14.0->google-cloud-pipeline-components) (2.27.1)\n",
            "Requirement already satisfied: typing-extensions>=4.12.2 in /usr/local/lib/python3.10/dist-packages (from pydantic<3->google-cloud-aiplatform<2,>=1.14.0->google-cloud-pipeline-components) (4.12.2)\n",
            "Requirement already satisfied: charset-normalizer<4,>=2 in /usr/local/lib/python3.10/dist-packages (from requests<3.0.0.dev0,>=2.18.0->google-api-core!=2.0.*,!=2.1.*,!=2.2.*,!=2.3.0,<3.0.0dev,>=1.31.5->google-cloud-pipeline-components) (3.4.0)\n",
            "Requirement already satisfied: idna<4,>=2.5 in /usr/local/lib/python3.10/dist-packages (from requests<3.0.0.dev0,>=2.18.0->google-api-core!=2.0.*,!=2.1.*,!=2.2.*,!=2.3.0,<3.0.0dev,>=1.31.5->google-cloud-pipeline-components) (3.10)\n",
            "Requirement already satisfied: numpy<3,>=1.14 in /usr/local/lib/python3.10/dist-packages (from shapely<3.0.0dev->google-cloud-aiplatform<2,>=1.14.0->google-cloud-pipeline-components) (1.26.4)\n",
            "Requirement already satisfied: google-crc32c<2.0dev,>=1.0 in /usr/local/lib/python3.10/dist-packages (from google-resumable-media<3.0dev,>=0.6.0->google-cloud-bigquery!=3.20.0,<4.0.0dev,>=1.15.0->google-cloud-aiplatform<2,>=1.14.0->google-cloud-pipeline-components) (1.6.0)\n",
            "Requirement already satisfied: pyasn1<0.7.0,>=0.4.6 in /usr/local/lib/python3.10/dist-packages (from pyasn1-modules>=0.2.1->google-auth<3.0.dev0,>=2.14.1->google-api-core!=2.0.*,!=2.1.*,!=2.2.*,!=2.3.0,<3.0.0dev,>=1.31.5->google-cloud-pipeline-components) (0.6.1)\n",
            "Downloading google_cloud_pipeline_components-2.18.0-py3-none-any.whl (1.5 MB)\n",
            "\u001b[2K   \u001b[90m━━━━━━━━━━━━━━━━━━━━━━━━━━━━━━━━━━━━━━━━\u001b[0m \u001b[32m1.5/1.5 MB\u001b[0m \u001b[31m46.5 MB/s\u001b[0m eta \u001b[36m0:00:00\u001b[0m\n",
            "\u001b[?25hDownloading kfp_pipeline_spec-0.5.0-py3-none-any.whl (9.1 kB)\n",
            "Building wheels for collected packages: kfp\n",
            "  Building wheel for kfp (setup.py) ... \u001b[?25l\u001b[?25hdone\n",
            "  Created wheel for kfp: filename=kfp-2.10.1-py3-none-any.whl size=364799 sha256=49f72c8f066e63e073054bf8df0acd638934ba89a093a50c95155b9197725ff3\n",
            "  Stored in directory: /root/.cache/pip/wheels/ec/3a/e6/68b6a5de8fec76d3e68c2ca3c7149c81aff126da47c105417d\n",
            "Successfully built kfp\n",
            "Installing collected packages: kfp-pipeline-spec, kfp, google-cloud-pipeline-components\n",
            "  Attempting uninstall: kfp-pipeline-spec\n",
            "    Found existing installation: kfp-pipeline-spec 0.6.0\n",
            "    Uninstalling kfp-pipeline-spec-0.6.0:\n",
            "      Successfully uninstalled kfp-pipeline-spec-0.6.0\n",
            "  Attempting uninstall: kfp\n",
            "    Found existing installation: kfp 2.11.0\n",
            "    Uninstalling kfp-2.11.0:\n",
            "      Successfully uninstalled kfp-2.11.0\n",
            "Successfully installed google-cloud-pipeline-components-2.18.0 kfp-2.10.1 kfp-pipeline-spec-0.5.0\n"
          ]
        }
      ]
    },
    {
      "cell_type": "code",
      "source": [
        "!pip install gcsfs"
      ],
      "metadata": {
        "colab": {
          "base_uri": "https://localhost:8080/"
        },
        "id": "47WnqcWbkObg",
        "executionInfo": {
          "status": "ok",
          "timestamp": 1734482642538,
          "user_tz": 480,
          "elapsed": 3121,
          "user": {
            "displayName": "",
            "userId": ""
          }
        },
        "outputId": "ec3b860b-57fb-4c28-d8cb-d455c2e6a26c"
      },
      "id": "47WnqcWbkObg",
      "execution_count": 3,
      "outputs": [
        {
          "output_type": "stream",
          "name": "stdout",
          "text": [
            "Requirement already satisfied: gcsfs in /usr/local/lib/python3.10/dist-packages (2024.10.0)\n",
            "Requirement already satisfied: aiohttp!=4.0.0a0,!=4.0.0a1 in /usr/local/lib/python3.10/dist-packages (from gcsfs) (3.11.9)\n",
            "Requirement already satisfied: decorator>4.1.2 in /usr/local/lib/python3.10/dist-packages (from gcsfs) (4.4.2)\n",
            "Requirement already satisfied: fsspec==2024.10.0 in /usr/local/lib/python3.10/dist-packages (from gcsfs) (2024.10.0)\n",
            "Requirement already satisfied: google-auth>=1.2 in /usr/local/lib/python3.10/dist-packages (from gcsfs) (2.27.0)\n",
            "Requirement already satisfied: google-auth-oauthlib in /usr/local/lib/python3.10/dist-packages (from gcsfs) (1.2.1)\n",
            "Requirement already satisfied: google-cloud-storage in /usr/local/lib/python3.10/dist-packages (from gcsfs) (2.8.0)\n",
            "Requirement already satisfied: requests in /usr/local/lib/python3.10/dist-packages (from gcsfs) (2.32.3)\n",
            "Requirement already satisfied: aiohappyeyeballs>=2.3.0 in /usr/local/lib/python3.10/dist-packages (from aiohttp!=4.0.0a0,!=4.0.0a1->gcsfs) (2.4.4)\n",
            "Requirement already satisfied: aiosignal>=1.1.2 in /usr/local/lib/python3.10/dist-packages (from aiohttp!=4.0.0a0,!=4.0.0a1->gcsfs) (1.3.1)\n",
            "Requirement already satisfied: async-timeout<6.0,>=4.0 in /usr/local/lib/python3.10/dist-packages (from aiohttp!=4.0.0a0,!=4.0.0a1->gcsfs) (4.0.3)\n",
            "Requirement already satisfied: attrs>=17.3.0 in /usr/local/lib/python3.10/dist-packages (from aiohttp!=4.0.0a0,!=4.0.0a1->gcsfs) (24.2.0)\n",
            "Requirement already satisfied: frozenlist>=1.1.1 in /usr/local/lib/python3.10/dist-packages (from aiohttp!=4.0.0a0,!=4.0.0a1->gcsfs) (1.5.0)\n",
            "Requirement already satisfied: multidict<7.0,>=4.5 in /usr/local/lib/python3.10/dist-packages (from aiohttp!=4.0.0a0,!=4.0.0a1->gcsfs) (6.1.0)\n",
            "Requirement already satisfied: propcache>=0.2.0 in /usr/local/lib/python3.10/dist-packages (from aiohttp!=4.0.0a0,!=4.0.0a1->gcsfs) (0.2.1)\n",
            "Requirement already satisfied: yarl<2.0,>=1.17.0 in /usr/local/lib/python3.10/dist-packages (from aiohttp!=4.0.0a0,!=4.0.0a1->gcsfs) (1.18.3)\n",
            "Requirement already satisfied: cachetools<6.0,>=2.0.0 in /usr/local/lib/python3.10/dist-packages (from google-auth>=1.2->gcsfs) (5.5.0)\n",
            "Requirement already satisfied: pyasn1-modules>=0.2.1 in /usr/local/lib/python3.10/dist-packages (from google-auth>=1.2->gcsfs) (0.4.1)\n",
            "Requirement already satisfied: rsa<5,>=3.1.4 in /usr/local/lib/python3.10/dist-packages (from google-auth>=1.2->gcsfs) (4.9)\n",
            "Requirement already satisfied: requests-oauthlib>=0.7.0 in /usr/local/lib/python3.10/dist-packages (from google-auth-oauthlib->gcsfs) (1.3.1)\n",
            "Requirement already satisfied: google-api-core!=2.0.*,!=2.1.*,!=2.2.*,!=2.3.0,<3.0.0dev,>=1.31.5 in /usr/local/lib/python3.10/dist-packages (from google-cloud-storage->gcsfs) (2.19.2)\n",
            "Requirement already satisfied: google-cloud-core<3.0dev,>=2.3.0 in /usr/local/lib/python3.10/dist-packages (from google-cloud-storage->gcsfs) (2.4.1)\n",
            "Requirement already satisfied: google-resumable-media>=2.3.2 in /usr/local/lib/python3.10/dist-packages (from google-cloud-storage->gcsfs) (2.7.2)\n",
            "Requirement already satisfied: charset-normalizer<4,>=2 in /usr/local/lib/python3.10/dist-packages (from requests->gcsfs) (3.4.0)\n",
            "Requirement already satisfied: idna<4,>=2.5 in /usr/local/lib/python3.10/dist-packages (from requests->gcsfs) (3.10)\n",
            "Requirement already satisfied: urllib3<3,>=1.21.1 in /usr/local/lib/python3.10/dist-packages (from requests->gcsfs) (1.26.20)\n",
            "Requirement already satisfied: certifi>=2017.4.17 in /usr/local/lib/python3.10/dist-packages (from requests->gcsfs) (2024.8.30)\n",
            "Requirement already satisfied: googleapis-common-protos<2.0.dev0,>=1.56.2 in /usr/local/lib/python3.10/dist-packages (from google-api-core!=2.0.*,!=2.1.*,!=2.2.*,!=2.3.0,<3.0.0dev,>=1.31.5->google-cloud-storage->gcsfs) (1.66.0)\n",
            "Requirement already satisfied: protobuf!=3.20.0,!=3.20.1,!=4.21.0,!=4.21.1,!=4.21.2,!=4.21.3,!=4.21.4,!=4.21.5,<6.0.0.dev0,>=3.19.5 in /usr/local/lib/python3.10/dist-packages (from google-api-core!=2.0.*,!=2.1.*,!=2.2.*,!=2.3.0,<3.0.0dev,>=1.31.5->google-cloud-storage->gcsfs) (4.25.5)\n",
            "Requirement already satisfied: proto-plus<2.0.0dev,>=1.22.3 in /usr/local/lib/python3.10/dist-packages (from google-api-core!=2.0.*,!=2.1.*,!=2.2.*,!=2.3.0,<3.0.0dev,>=1.31.5->google-cloud-storage->gcsfs) (1.25.0)\n",
            "Requirement already satisfied: google-crc32c<2.0dev,>=1.0 in /usr/local/lib/python3.10/dist-packages (from google-resumable-media>=2.3.2->google-cloud-storage->gcsfs) (1.6.0)\n",
            "Requirement already satisfied: typing-extensions>=4.1.0 in /usr/local/lib/python3.10/dist-packages (from multidict<7.0,>=4.5->aiohttp!=4.0.0a0,!=4.0.0a1->gcsfs) (4.12.2)\n",
            "Requirement already satisfied: pyasn1<0.7.0,>=0.4.6 in /usr/local/lib/python3.10/dist-packages (from pyasn1-modules>=0.2.1->google-auth>=1.2->gcsfs) (0.6.1)\n",
            "Requirement already satisfied: oauthlib>=3.0.0 in /usr/local/lib/python3.10/dist-packages (from requests-oauthlib>=0.7.0->google-auth-oauthlib->gcsfs) (3.2.2)\n"
          ]
        }
      ]
    },
    {
      "cell_type": "code",
      "source": [
        "!pip install fsspec"
      ],
      "metadata": {
        "colab": {
          "base_uri": "https://localhost:8080/"
        },
        "id": "rUYzx192kTBa",
        "executionInfo": {
          "status": "ok",
          "timestamp": 1734482646204,
          "user_tz": 480,
          "elapsed": 3669,
          "user": {
            "displayName": "",
            "userId": ""
          }
        },
        "outputId": "3820a912-a804-4d20-804d-b7226d4acf8f"
      },
      "id": "rUYzx192kTBa",
      "execution_count": 4,
      "outputs": [
        {
          "output_type": "stream",
          "name": "stdout",
          "text": [
            "Requirement already satisfied: fsspec in /usr/local/lib/python3.10/dist-packages (2024.10.0)\n"
          ]
        }
      ]
    },
    {
      "cell_type": "code",
      "source": [
        "pip install scikit-learn"
      ],
      "metadata": {
        "colab": {
          "base_uri": "https://localhost:8080/"
        },
        "id": "mzrOkUxRkUG1",
        "executionInfo": {
          "status": "ok",
          "timestamp": 1734482650912,
          "user_tz": 480,
          "elapsed": 4712,
          "user": {
            "displayName": "",
            "userId": ""
          }
        },
        "outputId": "dee8982a-5368-4036-b1ad-c9a4eb418287"
      },
      "id": "mzrOkUxRkUG1",
      "execution_count": 5,
      "outputs": [
        {
          "output_type": "stream",
          "name": "stdout",
          "text": [
            "Requirement already satisfied: scikit-learn in /usr/local/lib/python3.10/dist-packages (1.5.2)\n",
            "Requirement already satisfied: numpy>=1.19.5 in /usr/local/lib/python3.10/dist-packages (from scikit-learn) (1.26.4)\n",
            "Requirement already satisfied: scipy>=1.6.0 in /usr/local/lib/python3.10/dist-packages (from scikit-learn) (1.13.1)\n",
            "Requirement already satisfied: joblib>=1.2.0 in /usr/local/lib/python3.10/dist-packages (from scikit-learn) (1.4.2)\n",
            "Requirement already satisfied: threadpoolctl>=3.1.0 in /usr/local/lib/python3.10/dist-packages (from scikit-learn) (3.5.0)\n"
          ]
        }
      ]
    },
    {
      "cell_type": "code",
      "source": [
        "project_id = 'gcp-final-project-444704'\n",
        "location = 'us-central1'"
      ],
      "metadata": {
        "id": "otc_yeMqkW64",
        "executionInfo": {
          "status": "ok",
          "timestamp": 1734482650912,
          "user_tz": 480,
          "elapsed": 8,
          "user": {
            "displayName": "",
            "userId": ""
          }
        }
      },
      "id": "otc_yeMqkW64",
      "execution_count": 6,
      "outputs": []
    },
    {
      "cell_type": "code",
      "source": [
        "from google.cloud import aiplatform\n",
        "aiplatform.init(project=project_id, location=location)\n",
        "\n",
        "from kfp.v2.dsl import pipeline, component, InputPath, OutputPath, Dataset\n",
        "import joblib\n",
        "import gcsfs\n",
        "import fsspec\n",
        "import pandas as pd\n",
        "import numpy as np"
      ],
      "metadata": {
        "colab": {
          "base_uri": "https://localhost:8080/"
        },
        "id": "bT31AmrdkiWb",
        "executionInfo": {
          "status": "ok",
          "timestamp": 1734482663839,
          "user_tz": 480,
          "elapsed": 12933,
          "user": {
            "displayName": "",
            "userId": ""
          }
        },
        "outputId": "a2019530-2339-4390-bdc2-8074b661d9ca"
      },
      "id": "bT31AmrdkiWb",
      "execution_count": 7,
      "outputs": [
        {
          "output_type": "stream",
          "name": "stderr",
          "text": [
            "<ipython-input-7-134b2d31f0ea>:4: DeprecationWarning: The module `kfp.v2` is deprecated and will be removed in a futureversion. Please import directly from the `kfp` namespace, instead of `kfp.v2`.\n",
            "  from kfp.v2.dsl import pipeline, component, InputPath, OutputPath, Dataset\n"
          ]
        }
      ]
    },
    {
      "cell_type": "code",
      "metadata": {
        "tags": [],
        "id": "I4mlkqV1ZrPouq2neeZKexHa",
        "colab": {
          "base_uri": "https://localhost:8080/"
        },
        "executionInfo": {
          "status": "ok",
          "timestamp": 1734482985721,
          "user_tz": 480,
          "elapsed": 321892,
          "user": {
            "displayName": "",
            "userId": ""
          }
        },
        "outputId": "ddcaa7e2-9d08-4d2c-9e37-9d7f442e7fc0"
      },
      "source": [
        " from kfp.v2.dsl import pipeline, component, InputPath, OutputPath\n",
        "\n",
        "# Step 1: Initial Data Preparation (Reuse the same component as in training)\n",
        "@component(packages_to_install=[\"pandas\", \"numpy\", \"fsspec\", \"gcsfs\"])\n",
        "def initial_data_preparation(\n",
        "    input_dataset_path: str,  # Input: Raw dataset path\n",
        "    prepared_dataset_path: OutputPath(\"Dataset\")  # Output: Cleaned and prepared dataset path\n",
        "):\n",
        "    import pandas as pd\n",
        "    import numpy as np\n",
        "\n",
        "    # Load dataset\n",
        "    df = pd.read_csv(input_dataset_path)\n",
        "\n",
        "    # Handle missing values\n",
        "    df['Exercise Frequency'].fillna('None', inplace=True)\n",
        "    df['Type of Treatment'].fillna('None', inplace=True)\n",
        "    df['Number of Prior Visits'].fillna(df['Number of Prior Visits'].median(), inplace=True)\n",
        "    df['Medications Prescribed'].fillna(df['Medications Prescribed'].mean(), inplace=True)\n",
        "\n",
        "    # Handle outliers\n",
        "    df['Age'] = df['Age'].clip(upper=df['Age'].quantile(0.99))\n",
        "    df['Adjusted Weight (kg)'] = df['Adjusted Weight (kg)'].clip(upper=df['Adjusted Weight (kg)'].quantile(0.95))\n",
        "    df['Length of Stay'] = np.log1p(df['Length of Stay'])\n",
        "    df['Number of Prior Visits'] = df['Number of Prior Visits'].clip(upper=df['Number of Prior Visits'].quantile(0.95))\n",
        "\n",
        "    # Drop unnecessary columns\n",
        "    columns_to_drop = ['Hospital ID', 'Weight (kg)']\n",
        "    df = df.drop(columns=columns_to_drop)\n",
        "\n",
        "    # Save the prepared dataset\n",
        "    df.to_csv(prepared_dataset_path, index=False)\n",
        "\n",
        "# Step 2: Perform Validation (Normalize the test dataset using the scaler from training pipeline)\n",
        "@component(packages_to_install=[\"pandas\", \"numpy\", \"joblib\", \"gcsfs\", \"scikit-learn\"])\n",
        "def perform_validation(\n",
        "    validation_dataset_path: InputPath(\"Dataset\"),  # Input: Raw test dataset\n",
        "    scaler_path: str,                              # Input: Path to saved scaler\n",
        "    normalized_validation_dataset_path: OutputPath(\"Dataset\")  # Output: Processed test dataset\n",
        "):\n",
        "    import pandas as pd\n",
        "    import joblib\n",
        "    import gcsfs\n",
        "\n",
        "    # Load validation dataset\n",
        "    df_validate = pd.read_csv(validation_dataset_path)\n",
        "\n",
        "    # Extract PatientID for later use\n",
        "    if 'PatientID' in df_validate.columns:\n",
        "        patient_ids = df_validate['PatientID']\n",
        "    else:\n",
        "        raise ValueError(\"PatientID column is missing in the input dataset.\")\n",
        "\n",
        "    # Drop PatientID temporarily for transformations\n",
        "    df_validate = df_validate.drop(columns=['PatientID'])\n",
        "\n",
        "    # Load the scaler\n",
        "    fs = gcsfs.GCSFileSystem()\n",
        "    with fs.open(scaler_path, 'rb') as f:\n",
        "        scaler = joblib.load(f)\n",
        "\n",
        "    # Categorical encoding: Binary encoding for 'Gender' and 'Smoker'\n",
        "    df_validate['Gender'] = df_validate['Gender'].map({'Male': 0, 'Female': 1})\n",
        "    df_validate['Smoker'] = df_validate['Smoker'].astype(int)\n",
        "\n",
        "    # One-hot encoding for categorical variables\n",
        "    categorical_columns = ['Ethnicity', 'Diet Type', 'Type of Treatment', 'Exercise Frequency']\n",
        "    df_validate = pd.get_dummies(df_validate, columns=categorical_columns, drop_first=False)\n",
        "\n",
        "    # Ensure numerical columns match the scaler's expected input\n",
        "    numerical_columns = ['Height (m)', 'BMI', 'Adjusted Weight (kg)', 'Number of Prior Visits',\n",
        "                         'Medications Prescribed', 'Length of Stay']\n",
        "\n",
        "    # Apply scaling to numerical features\n",
        "    df_validate[numerical_columns] = scaler.transform(df_validate[numerical_columns])\n",
        "\n",
        "    # Match column order used in training pipeline\n",
        "    #expected_columns = scaler.feature_names_in_  # Retrieve expected column order from the scaler\n",
        "    #df_validate = df_validate.reindex(columns=expected_columns, fill_value=0)\n",
        "\n",
        "    # Reattach the PatientID column at the start\n",
        "    df_validate.insert(0, 'PatientID', patient_ids)\n",
        "\n",
        "    # Save the normalized validation dataset\n",
        "    df_validate.to_csv(normalized_validation_dataset_path, index=False)\n",
        "\n",
        "\n",
        "\n",
        "\n",
        "@component(packages_to_install=[\"pandas\", \"joblib\", \"gcsfs\", \"scikit-learn\", \"xgboost\"])\n",
        "def perform_predictions(\n",
        "    dataset_for_prediction_path: InputPath(\"Dataset\"),\n",
        "    model_path: str,\n",
        "    predictions_path: OutputPath(\"Dataset\"),\n",
        "    gcs_dump_path: str  # Additional input: Path to dump the test data\n",
        "):\n",
        "    import pandas as pd\n",
        "    import joblib\n",
        "    import gcsfs\n",
        "\n",
        "    # Load the dataset for predictions\n",
        "    df = pd.read_csv(dataset_for_prediction_path)\n",
        "\n",
        "    # Extract the PatientID column for output\n",
        "    if 'PatientID' in df.columns:\n",
        "        patient_ids = df['PatientID']\n",
        "        features = df.drop(columns=['PatientID'])\n",
        "    else:\n",
        "        raise ValueError(\"PatientID column is missing in the input dataset.\")\n",
        "\n",
        "    # Align columns to match the model's training features\n",
        "    fs = gcsfs.GCSFileSystem()\n",
        "    with fs.open(model_path, 'rb') as f:\n",
        "        model = joblib.load(f)\n",
        "    expected_columns = model.feature_names_in_\n",
        "    features = features.reindex(columns=expected_columns, fill_value=0)\n",
        "\n",
        "    # Dump the testing data to GCS for review\n",
        "    with fs.open(f\"{gcs_dump_path}/xgb_test_data.csv\", 'w') as f:\n",
        "        features.to_csv(f, index=False)\n",
        "    print(\"Testing DataFrame dumped to GCS.\")\n",
        "\n",
        "    # Print a preview of the data\n",
        "    print(\"Testing DataFrame (features) Preview:\")\n",
        "    print(features.head())\n",
        "\n",
        "    # Make predictions\n",
        "    predictions = model.predict(features)\n",
        "\n",
        "    # Save predictions\n",
        "    output_df = pd.DataFrame({\n",
        "        'PatientID': patient_ids,\n",
        "        'readmission_prediction': predictions\n",
        "    })\n",
        "    output_df.to_csv(predictions_path, index=False)\n",
        "\n",
        "\n",
        "# Step 4: Define the Inference Pipeline\n",
        "@pipeline(name=\"healthcare-readmissions-inference-pipeline\")\n",
        "def healthcare_inference_pipeline(\n",
        "    input_test_dataset_path: str,   # Input: Test dataset\n",
        "    scaler_uri: str,                # Input: Scaler from training pipeline\n",
        "    model_uri: str                  # Input: Model from training pipeline\n",
        "):\n",
        "    # Step 1: Prepare the test dataset\n",
        "    prepared_test_data = initial_data_preparation(\n",
        "        input_dataset_path=input_test_dataset_path\n",
        "    )\n",
        "\n",
        "    # Step 2: Normalize the test dataset\n",
        "    normalized_test_data = perform_validation(\n",
        "        validation_dataset_path=prepared_test_data.outputs[\"prepared_dataset_path\"],\n",
        "        scaler_path=scaler_uri\n",
        "    )\n",
        "\n",
        "    # Step 3: Perform predictions\n",
        "    perform_predictions(\n",
        "    dataset_for_prediction_path=normalized_test_data.outputs[\"normalized_validation_dataset_path\"],\n",
        "    model_path=model_uri,\n",
        "    gcs_dump_path=\"gs://healthcare_readmissions/debugdatasets\"  # Replace with your GCS bucket path\n",
        ")\n",
        "\n",
        "\n",
        "# Compile and Run the Pipeline\n",
        "from kfp.v2 import compiler\n",
        "\n",
        "compiler.Compiler().compile(\n",
        "    pipeline_func=healthcare_inference_pipeline,\n",
        "    package_path=\"healthcare_inference_pipeline.json\"\n",
        ")\n",
        "\n",
        "# Run the pipeline\n",
        "pipeline_job = aiplatform.PipelineJob(\n",
        "    display_name=\"healthcare-readmissions-inference-pipeline\",\n",
        "    template_path=\"healthcare_inference_pipeline.json\",\n",
        "    pipeline_root=\"gs://healthcare_readmissions\",\n",
        "    parameter_values={\n",
        "        \"input_test_dataset_path\": \"gs://healthcare_readmissions/healthcare_readmissions_dataset_test.csv\",\n",
        "        \"scaler_uri\": \"gs://healthcare_readmissions/853819008626/healthcare-readmissions-training-pipeline-20241216091749/split-and-preprocess-data_820267594517839872/scaler_path\",  # Update with the actual scaler path from training\n",
        "        \"model_uri\": \"gs://healthcare_readmissions/853819008626/healthcare-readmissions-training-pipeline-20241216091749/train-model_-8403104442336935936/trained_model_path\"  # Update with the actual model path from training\n",
        "    },\n",
        "    enable_caching=True\n",
        ")\n",
        "\n",
        "pipeline_job.run()\n",
        "\n",
        "\n",
        "\n"
      ],
      "execution_count": 8,
      "outputs": [
        {
          "output_type": "stream",
          "name": "stderr",
          "text": [
            "/usr/local/lib/python3.10/dist-packages/kfp/dsl/component_decorator.py:126: FutureWarning: The default base_image used by the @dsl.component decorator will switch from 'python:3.9' to 'python:3.10' on Oct 1, 2025. To ensure your existing components work with versions of the KFP SDK released after that date, you should provide an explicit base_image argument and ensure your component works as intended on Python 3.10.\n",
            "  return component_factory.create_component_from_func(\n",
            "INFO:google.cloud.aiplatform.pipeline_jobs:Creating PipelineJob\n",
            "INFO:google.cloud.aiplatform.pipeline_jobs:PipelineJob created. Resource name: projects/853819008626/locations/us-central1/pipelineJobs/healthcare-readmissions-inference-pipeline-20241218004423\n",
            "INFO:google.cloud.aiplatform.pipeline_jobs:To use this PipelineJob in another session:\n",
            "INFO:google.cloud.aiplatform.pipeline_jobs:pipeline_job = aiplatform.PipelineJob.get('projects/853819008626/locations/us-central1/pipelineJobs/healthcare-readmissions-inference-pipeline-20241218004423')\n",
            "INFO:google.cloud.aiplatform.pipeline_jobs:View Pipeline Job:\n",
            "https://console.cloud.google.com/vertex-ai/locations/us-central1/pipelines/runs/healthcare-readmissions-inference-pipeline-20241218004423?project=853819008626\n",
            "INFO:google.cloud.aiplatform.pipeline_jobs:PipelineJob projects/853819008626/locations/us-central1/pipelineJobs/healthcare-readmissions-inference-pipeline-20241218004423 current state:\n",
            "PipelineState.PIPELINE_STATE_RUNNING\n",
            "INFO:google.cloud.aiplatform.pipeline_jobs:PipelineJob projects/853819008626/locations/us-central1/pipelineJobs/healthcare-readmissions-inference-pipeline-20241218004423 current state:\n",
            "PipelineState.PIPELINE_STATE_RUNNING\n",
            "INFO:google.cloud.aiplatform.pipeline_jobs:PipelineJob projects/853819008626/locations/us-central1/pipelineJobs/healthcare-readmissions-inference-pipeline-20241218004423 current state:\n",
            "PipelineState.PIPELINE_STATE_RUNNING\n",
            "INFO:google.cloud.aiplatform.pipeline_jobs:PipelineJob projects/853819008626/locations/us-central1/pipelineJobs/healthcare-readmissions-inference-pipeline-20241218004423 current state:\n",
            "PipelineState.PIPELINE_STATE_RUNNING\n",
            "INFO:google.cloud.aiplatform.pipeline_jobs:PipelineJob projects/853819008626/locations/us-central1/pipelineJobs/healthcare-readmissions-inference-pipeline-20241218004423 current state:\n",
            "PipelineState.PIPELINE_STATE_RUNNING\n",
            "INFO:google.cloud.aiplatform.pipeline_jobs:PipelineJob run completed. Resource name: projects/853819008626/locations/us-central1/pipelineJobs/healthcare-readmissions-inference-pipeline-20241218004423\n"
          ]
        }
      ],
      "id": "I4mlkqV1ZrPouq2neeZKexHa"
    },
    {
      "cell_type": "code",
      "source": [],
      "metadata": {
        "id": "5ekGoY7Gg0_J"
      },
      "id": "5ekGoY7Gg0_J",
      "execution_count": null,
      "outputs": []
    }
  ],
  "metadata": {
    "kernelspec": {
      "display_name": "Python 3",
      "language": "python",
      "name": "python3"
    },
    "language_info": {
      "codemirror_mode": {
        "name": "ipython",
        "version": 3
      },
      "file_extension": ".py",
      "mimetype": "text/x-python",
      "name": "python",
      "nbconvert_exporter": "python",
      "pygments_lexer": "ipython3",
      "version": "3.10.10"
    },
    "colab": {
      "provenance": [],
      "name": "gcpfinal728 (Dec 15, 2024, 7:42:26 PM)"
    }
  },
  "nbformat": 4,
  "nbformat_minor": 5
}